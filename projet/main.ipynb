{
 "cells": [
  {
   "cell_type": "code",
   "execution_count": 1,
   "metadata": {
    "collapsed": true,
    "pycharm": {
     "is_executing": false
    }
   },
   "outputs": [],
   "source": [
    "import operator\n",
    "import gym\n",
    "import random\n",
    "# from NN import NN \n",
    "from itertools import permutations\n",
    "import numpy as np"
   ]
  },
  {
   "cell_type": "code",
   "execution_count": 2,
   "outputs": [],
   "source": [
    "env = gym.make('CartPole-v1')\n",
    "# env = gym.make('Acrobot-v1')"
   ],
   "metadata": {
    "collapsed": false,
    "pycharm": {
     "name": "#%%\n",
     "is_executing": false
    }
   }
  },
  {
   "cell_type": "code",
   "execution_count": 31,
   "outputs": [],
   "source": [
    "class NN:\n",
    "    def __init__(self, w):\n",
    "        self.W = w\n",
    "\n",
    "    @classmethod\n",
    "    def from_params(cls, input_nodes, hidden_layers, output_nodes):  # NN.from_params(3,[3,4,5],1)\n",
    "        w = []\n",
    "        if len(hidden_layers):\n",
    "            w.append(np.random.normal(0, 0.1, (input_nodes + 1, hidden_layers[0])))\n",
    "            for i in range(1, len(hidden_layers)):\n",
    "                w.append(np.random.normal(0, 0.1, (hidden_layers[i - 1] + 1, hidden_layers[i])))\n",
    "            w.append(np.random.normal(0, 0.1, (hidden_layers[-1] + 1, output_nodes)))\n",
    "        else:\n",
    "            w.append(np.random.normal(0, 0.1, (input_nodes + 1, output_nodes)))\n",
    "        return cls(w)\n",
    "\n",
    "    @classmethod\n",
    "    def from_weights(cls, w):\n",
    "        return cls(w)\n",
    "\n",
    "    @classmethod\n",
    "    def crossover(cls, dna_1, dna_2):\n",
    "        algo_maison = False\n",
    "        new_w = []\n",
    "        for m in range(len(dna_1)):\n",
    "            if not algo_maison:\n",
    "                new_m = np.zeros(dna_1[m].shape)\n",
    "                for i in range(len(dna_1[m])):\n",
    "                    for j in range(len(dna_1[m][i])):\n",
    "                        new_m[i][j] = dna_1[m][i][j] if random.random() > 0.5 else dna_2[m][i][j]\n",
    "                new_w.append(new_m)\n",
    "            else:\n",
    "                new_m = np.copy(dna_1[m].T)\n",
    "                for r in range(new_m.shape[0]):\n",
    "                    if random.random() > 0.5:\n",
    "                        new_m[r] = dna_2[m].T[r]\n",
    "                new_m = new_m.T\n",
    "                new_w.append(new_m)            \n",
    "        return new_w\n",
    "\n",
    "    @classmethod\n",
    "    def mutate(cls, dna, rate):\n",
    "        _w = []\n",
    "        for m in dna:\n",
    "            new_m = np.copy(m)\n",
    "            for w in np.nditer(new_m, op_flags=['readwrite']):\n",
    "                if random.random() < rate:\n",
    "                    w[...] = random.random()\n",
    "            _w.append(new_m)\n",
    "        return _w\n",
    "\n",
    "    def hidden_activation(self, Z):\n",
    "        return np.maximum(Z, 0)\n",
    "\n",
    "    def softmax_activation(self, Z):\n",
    "        exp = np.exp(Z - Z.max())\n",
    "        return np.array(exp / exp.sum())\n",
    "\n",
    "    def predict(self, inputs):\n",
    "        a = np.append(np.array(inputs), 1)\n",
    "        for i in range(len(self.W) - 1):\n",
    "            Z = np.squeeze(a @ self.W[i])\n",
    "            a = np.append(self.hidden_activation(Z), 1)\n",
    "        Z = np.squeeze(a @ self.W[-1])\n",
    "        a = self.softmax_activation(Z)\n",
    "        return np.argmax(a)\n",
    "\n",
    "    def get_weights_copy(self):\n",
    "        _w = []\n",
    "        for w in self.W:\n",
    "            _w.append(np.copy(w))\n",
    "        return _w"
   ],
   "metadata": {
    "collapsed": false,
    "pycharm": {
     "name": "#%%\n",
     "is_executing": false
    }
   }
  },
  {
   "cell_type": "code",
   "execution_count": 32,
   "outputs": [],
   "source": [
    "class Agent:\n",
    "    def __init__(self, env, w = None):\n",
    "        self.action_size = env.action_space.n\n",
    "        self.observation_size = env.observation_space.shape[0]\n",
    "        self.fitness = 0\n",
    "        if w:\n",
    "            self.NN = NN.from_weights(w)\n",
    "        else:\n",
    "            self.NN = NN.from_params(self.observation_size, [8, 4], self.action_size)\n",
    "\n",
    "\n",
    "    def get_action(self, observation):\n",
    "        return self.NN.predict(observation)\n",
    "    \n",
    "    def set_fitness(self, fitness):\n",
    "        self.fitness = fitness\n",
    "        \n",
    "    def get_mutated_copy(self, rate):\n",
    "        return NN.mutate(self.NN.get_weights_copy(), rate)\n",
    "    \n",
    "    def get_dna(self):\n",
    "        return self.NN.get_weights_copy()\n",
    "        "
   ],
   "metadata": {
    "collapsed": false,
    "pycharm": {
     "name": "#%%\n",
     "is_executing": false
    }
   }
  },
  {
   "cell_type": "code",
   "execution_count": null,
   "outputs": [
    {
     "name": "stdout",
     "text": [
      "Fin de 1/50 meilleur agent 500.0 en 5 generation\n",
      "Fin de 2/50 meilleur agent 500.0 en 9 generation\n",
      "Fin de 3/50 meilleur agent 500.0 en 5 generation\n",
      "Fin de 4/50 meilleur agent 500.0 en 5 generation\n",
      "Fin de 5/50 meilleur agent 139.4 en 15 generation\n",
      "Fin de 6/50 meilleur agent 500.0 en 7 generation\n",
      "Fin de 7/50 meilleur agent 295.53333333333336 en 15 generation\n",
      "Fin de 8/50 meilleur agent 54.0 en 15 generation\n",
      "Fin de 9/50 meilleur agent 500.0 en 9 generation\n"
     ],
     "output_type": "stream"
    }
   ],
   "source": [
    "gen_number = []\n",
    "rapport_stats = 50\n",
    "# Création de la première génération\n",
    "for eval in range(rapport_stats):\n",
    "    best_agent = None\n",
    "    algo_recherche = False\n",
    "    mutation_rate = 0.01\n",
    "    total_run = 15\n",
    "    agent_quantity = 100 # un nombre carré\n",
    "    total_generation = 15\n",
    "    agents = [Agent(env) for i in range(agent_quantity)]\n",
    "    for generation in range(total_generation):\n",
    "        # print(\"Generation: \" + str(generation) + \" ----------------------------------------\")\n",
    "        # print(\"Testing \" + str(len(agents)) + \" agents...\")\n",
    "        \n",
    "        # Test de chaque agents    \n",
    "        for agent in agents:\n",
    "            fitness = 0\n",
    "            # max_pos = -2.0\n",
    "            # Chaque agent fait plusieurs essait\n",
    "            for run in range(total_run):\n",
    "                state = env.reset()\n",
    "                for t in range(1000):\n",
    "                    action = agent.get_action(state)\n",
    "                    state, reward, done, info = env.step(action)\n",
    "                    # max_pos = max(state[0], max_pos)\n",
    "                    \n",
    "                    # if state[0] > -0.2:\n",
    "                    #     reward = 1\n",
    "                    fitness += reward\n",
    "                    if done:\n",
    "                        break\n",
    "            agent.set_fitness(fitness/total_run)\n",
    "            \n",
    "    \n",
    "        best_candidate = max(agents, key=operator.attrgetter(\"fitness\"))\n",
    "        if best_agent is None or best_agent.fitness < best_candidate.fitness:\n",
    "            best_agent = best_candidate\n",
    "            \n",
    "        # print(\"Best candidate fitness: \" + str(best_candidate.fitness))\n",
    "        if best_candidate.fitness == 500.0:\n",
    "            # print(\"Early stopping\")\n",
    "            gen_number.append(generation+1)\n",
    "            best_agent = best_candidate\n",
    "            break\n",
    "        \n",
    "        # Nouvelle génération\n",
    "        # print(\"Creating new generation\")\n",
    "        # print(\"Parents:\")\n",
    "        parents = []\n",
    "        parents.append(best_candidate)\n",
    "        new_agents = []\n",
    "        \n",
    "        # Selection des parents par l'algorithme TOS\n",
    "        parent_quantity = int(agent_quantity ** 0.5-1)\n",
    "        if algo_recherche:\n",
    "            tournament_size = parent_quantity\n",
    "            for i in range(parent_quantity):\n",
    "                selected_candidates = random.sample(agents, tournament_size)\n",
    "                champion = max(selected_candidates, key=operator.attrgetter(\"fitness\"))\n",
    "                parents.append(champion)\n",
    "                # Ajout du champion dans les prochains agents\n",
    "                new_agents.append(champion)\n",
    "            \n",
    "            # Chaque permutation de parent cré un enfant et est muté\n",
    "            for i, j in permutations(parents, 2):\n",
    "                child_dna = NN.crossover(i.get_dna(), j.get_dna())\n",
    "                if max(i.fitness, j.fitness) == -200:\n",
    "                    child = Agent(env, NN.mutate(child_dna, mutation_rate*80))\n",
    "                else:\n",
    "                    child = Agent(env, NN.mutate(child_dna, mutation_rate))\n",
    "                new_agents.append(child)\n",
    "        else:\n",
    "            agents.sort(key=operator.attrgetter(\"fitness\"), reverse=True)\n",
    "            for agent in agents[:parent_quantity]:\n",
    "                new_agents.append(agent)\n",
    "                parents.append(agent)\n",
    "        \n",
    "            for parent in parents:\n",
    "                for i in range(agent_quantity//parent_quantity-1):\n",
    "                    new_agents.append(Agent(env, NN.mutate(parent.get_dna(), mutation_rate)))\n",
    "        # for parent in parents:\n",
    "            # print(int(parent.fitness))\n",
    "    \n",
    "        \n",
    "        agents = new_agents\n",
    "    else:\n",
    "        gen_number.append(15)\n",
    "    print(\"Fin de \" + str(eval+1) + \"/\" + str(rapport_stats), \"meilleur agent\", best_agent.fitness, \"en\", generation+1, \"generation\")\n",
    "print(np.mean(gen_number))\n",
    "print(\"End training\")"
   ],
   "metadata": {
    "collapsed": false,
    "pycharm": {
     "name": "#%%\n",
     "is_executing": true
    }
   }
  },
  {
   "cell_type": "code",
   "execution_count": 17,
   "outputs": [
    {
     "name": "stdout",
     "text": [
      "Best training fitness: 500.0\n",
      "498.53\n"
     ],
     "output_type": "stream"
    }
   ],
   "source": [
    "evaluation_score = 0\n",
    "evaluation_runs = 100\n",
    "print(\"Best training fitness:\", best_agent.fitness)\n",
    "for run in range(evaluation_runs):\n",
    "    fitness = 0\n",
    "    state = env.reset()\n",
    "    for t in range(1000):\n",
    "        action = best_agent.get_action(state)\n",
    "        state, reward, done, info = env.step(action)\n",
    "        fitness += reward\n",
    "        if done:\n",
    "            evaluation_score+=fitness\n",
    "            break\n",
    "print(evaluation_score/evaluation_runs)\n"
   ],
   "metadata": {
    "collapsed": false,
    "pycharm": {
     "name": "#%%\n",
     "is_executing": false
    }
   }
  },
  {
   "cell_type": "code",
   "execution_count": 20,
   "outputs": [
    {
     "name": "stdout",
     "text": [
      "499\n"
     ],
     "output_type": "stream"
    }
   ],
   "source": [
    "state = env.reset()\n",
    "score = 0\n",
    "for t in range(1000):\n",
    "    action = best_agent.get_action(state)\n",
    "    state, reward, done, info = env.step(action)\n",
    "    score += reward\n",
    "    env.render()\n",
    "    if done:\n",
    "        print(t)\n",
    "        break\n",
    "env.close()"
   ],
   "metadata": {
    "collapsed": false,
    "pycharm": {
     "name": "#%%\n",
     "is_executing": false
    }
   }
  },
  {
   "cell_type": "code",
   "execution_count": null,
   "outputs": [],
   "source": [
    "env.close()"
   ],
   "metadata": {
    "collapsed": false,
    "pycharm": {
     "name": "#%%\n",
     "is_executing": false
    }
   }
  }
 ],
 "metadata": {
  "kernelspec": {
   "display_name": "Python 3",
   "language": "python",
   "name": "python3"
  },
  "language_info": {
   "codemirror_mode": {
    "name": "ipython",
    "version": 2
   },
   "file_extension": ".py",
   "mimetype": "text/x-python",
   "name": "python",
   "nbconvert_exporter": "python",
   "pygments_lexer": "ipython2",
   "version": "2.7.6"
  },
  "pycharm": {
   "stem_cell": {
    "cell_type": "raw",
    "source": [],
    "metadata": {
     "collapsed": false
    }
   }
  }
 },
 "nbformat": 4,
 "nbformat_minor": 0
}