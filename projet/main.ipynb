{
 "cells": [
  {
   "cell_type": "code",
   "execution_count": 1,
   "metadata": {
    "collapsed": true,
    "pycharm": {
     "is_executing": false
    }
   },
   "outputs": [],
   "source": [
    "import operator\n",
    "import gym\n",
    "from NN import NN "
   ]
  },
  {
   "cell_type": "code",
   "execution_count": 2,
   "outputs": [],
   "source": [
    "env = gym.make('CartPole-v1')"
   ],
   "metadata": {
    "collapsed": false,
    "pycharm": {
     "name": "#%%\n",
     "is_executing": false
    }
   }
  },
  {
   "cell_type": "code",
   "execution_count": 3,
   "outputs": [],
   "source": [
    "class Agent:\n",
    "    def __init__(self, env, w = None):\n",
    "        self.action_size = env.action_space.n\n",
    "        self.observation_size = env.observation_space.shape[0]\n",
    "        self.fitness = 0\n",
    "        if w:\n",
    "            self.NN = NN.from_weights(w)\n",
    "        else:\n",
    "            self.NN = NN.from_params(self.observation_size, [2], self.action_size)\n",
    "\n",
    "    def get_action(self, observation):\n",
    "        return self.NN.predict(observation)\n",
    "    \n",
    "    def set_fitness(self, fitness):\n",
    "        self.fitness = fitness\n",
    "        \n",
    "    def get_mutated_weights(self, rate):\n",
    "        return self.NN.mutate(rate)\n",
    "        "
   ],
   "metadata": {
    "collapsed": false,
    "pycharm": {
     "name": "#%%\n",
     "is_executing": false
    }
   }
  },
  {
   "cell_type": "code",
   "execution_count": 19,
   "outputs": [
    {
     "name": "stdout",
     "text": [
      "Generation: 0\n",
      "testing...\n",
      "Creating new agents\n",
      "196.8\n",
      "35.46666666666667\n",
      "11.066666666666666\n",
      "9.866666666666667\n",
      "9.866666666666667\n",
      "Generation: 1\n",
      "testing...\n",
      "Creating new agents\n",
      "206.4\n",
      "206.26666666666668\n",
      "205.93333333333334\n",
      "204.86666666666667\n",
      "204.73333333333332\n",
      "Generation: 2\n",
      "testing...\n",
      "Creating new agents\n",
      "313.0\n",
      "213.33333333333334\n",
      "212.4\n",
      "211.66666666666666\n",
      "210.0\n",
      "Generation: 3\n",
      "testing...\n",
      "Creating new agents\n",
      "478.8\n",
      "336.6666666666667\n",
      "336.53333333333336\n",
      "329.53333333333336\n",
      "327.73333333333335\n",
      "Generation: 4\n",
      "testing...\n",
      "Creating new agents\n",
      "500.0\n",
      "500.0\n",
      "496.0\n",
      "490.3333333333333\n",
      "486.6666666666667\n",
      "Generation: 5\n",
      "testing...\n",
      "Creating new agents\n",
      "500.0\n",
      "500.0\n",
      "500.0\n",
      "500.0\n",
      "500.0\n",
      "Generation: 6\n",
      "testing...\n",
      "Creating new agents\n",
      "500.0\n",
      "500.0\n",
      "500.0\n",
      "500.0\n",
      "500.0\n",
      "Generation: 7\n",
      "testing...\n",
      "Creating new agents\n",
      "500.0\n",
      "500.0\n",
      "500.0\n",
      "500.0\n",
      "500.0\n",
      "Generation: 8\n",
      "testing...\n",
      "Creating new agents\n",
      "500.0\n",
      "500.0\n",
      "500.0\n",
      "500.0\n",
      "500.0\n",
      "Generation: 9\n",
      "testing...\n",
      "Creating new agents\n",
      "500.0\n",
      "500.0\n",
      "500.0\n",
      "500.0\n",
      "500.0\n",
      "End training\n"
     ],
     "output_type": "stream"
    }
   ],
   "source": [
    "total_run = 15\n",
    "agent_number = 50\n",
    "total_generation = 10\n",
    "agents = [Agent(env) for i in range(agent_number)]\n",
    "for generation in range(total_generation):\n",
    "    print(\"Generation: \" + str(generation))\n",
    "    print(\"testing...\")\n",
    "    \n",
    "    for agent in agents:\n",
    "        fitness = 0\n",
    "        for run in range(total_run):\n",
    "            state = env.reset()\n",
    "            for t in range(1000):\n",
    "                action = agent.get_action(state)\n",
    "                state, reward, done, info = env.step(action)\n",
    "                fitness += reward\n",
    "                if done:\n",
    "                    break\n",
    "        agent.set_fitness(fitness/total_run)\n",
    "        \n",
    "    agents.sort(key=operator.attrgetter('fitness'), reverse=True)\n",
    "    new_agents = []\n",
    "    print(\"Creating new agents\")\n",
    "    for agent in agents[:max(agent_number//10,1)]:\n",
    "        print(agent.fitness)\n",
    "        new_agents.append(agent)\n",
    "        for i in range(agent_number-1):\n",
    "            new_agent = Agent(env, agent.get_mutated_weights(0.01))\n",
    "            new_agents.append(new_agent)\n",
    "    agents = new_agents\n",
    "    \n",
    "print(\"End training\")\n",
    "agents.sort(key=operator.attrgetter('fitness'), reverse=True)"
   ],
   "metadata": {
    "collapsed": false,
    "pycharm": {
     "name": "#%%\n",
     "is_executing": false
    }
   }
  },
  {
   "cell_type": "code",
   "execution_count": 20,
   "outputs": [
    {
     "name": "stdout",
     "text": [
      "500.0\n"
     ],
     "output_type": "stream"
    }
   ],
   "source": [
    "evaluation_score = 0\n",
    "evaluation_runs = 100\n",
    "for run in range(evaluation_runs):\n",
    "    fitness = 0\n",
    "    state = env.reset()\n",
    "    for t in range(1000):\n",
    "        action = agents[0].get_action(state)\n",
    "        state, reward, done, info = env.step(action)\n",
    "        fitness += reward\n",
    "        # env.render()\n",
    "        if done:\n",
    "            # print(t)\n",
    "            evaluation_score+=fitness\n",
    "            break\n",
    "print(evaluation_score/evaluation_runs)\n"
   ],
   "metadata": {
    "collapsed": false,
    "pycharm": {
     "name": "#%%\n",
     "is_executing": false
    }
   }
  },
  {
   "cell_type": "code",
   "execution_count": 24,
   "outputs": [
    {
     "name": "stdout",
     "text": [
      "499\n"
     ],
     "output_type": "stream"
    }
   ],
   "source": [
    "state = env.reset()\n",
    "for t in range(1000):\n",
    "    action = agents[0].get_action(state)\n",
    "    state, reward, done, info = env.step(action)\n",
    "    env.render()\n",
    "    if done:\n",
    "        print(t)\n",
    "        break"
   ],
   "metadata": {
    "collapsed": false,
    "pycharm": {
     "name": "#%%\n",
     "is_executing": false
    }
   }
  },
  {
   "cell_type": "code",
   "execution_count": 7,
   "outputs": [],
   "source": [
    "env.close()"
   ],
   "metadata": {
    "collapsed": false,
    "pycharm": {
     "name": "#%%\n",
     "is_executing": false
    }
   }
  }
 ],
 "metadata": {
  "kernelspec": {
   "display_name": "Python 3",
   "language": "python",
   "name": "python3"
  },
  "language_info": {
   "codemirror_mode": {
    "name": "ipython",
    "version": 2
   },
   "file_extension": ".py",
   "mimetype": "text/x-python",
   "name": "python",
   "nbconvert_exporter": "python",
   "pygments_lexer": "ipython2",
   "version": "2.7.6"
  },
  "pycharm": {
   "stem_cell": {
    "cell_type": "raw",
    "source": [],
    "metadata": {
     "collapsed": false
    }
   }
  }
 },
 "nbformat": 4,
 "nbformat_minor": 0
}