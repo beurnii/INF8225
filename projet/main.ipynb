{
 "cells": [
  {
   "cell_type": "code",
   "execution_count": 1,
   "metadata": {
    "collapsed": true,
    "pycharm": {
     "is_executing": false
    }
   },
   "outputs": [],
   "source": [
    "import operator\n",
    "import gym\n",
    "import random\n",
    "# from NN import NN \n",
    "from itertools import permutations\n",
    "import numpy as np"
   ]
  },
  {
   "cell_type": "code",
   "execution_count": 2,
   "metadata": {
    "pycharm": {
     "is_executing": false,
     "name": "#%%\n"
    }
   },
   "outputs": [],
   "source": [
    "env = gym.make('CartPole-v1')\n",
    "# env = gym.make('Acrobot-v1')"
   ]
  },
  {
   "cell_type": "code",
   "execution_count": 31,
   "metadata": {
    "pycharm": {
     "is_executing": false,
     "name": "#%%\n"
    }
   },
   "outputs": [],
   "source": [
    "class NN:\n",
    "    def __init__(self, w):\n",
    "        self.W = w\n",
    "\n",
    "    @classmethod\n",
    "    def from_params(cls, input_nodes, hidden_layers, output_nodes):  # NN.from_params(3,[3,4,5],1)\n",
    "        w = []\n",
    "        if len(hidden_layers):\n",
    "            w.append(np.random.normal(0, 0.1, (input_nodes + 1, hidden_layers[0])))\n",
    "            for i in range(1, len(hidden_layers)):\n",
    "                w.append(np.random.normal(0, 0.1, (hidden_layers[i - 1] + 1, hidden_layers[i])))\n",
    "            w.append(np.random.normal(0, 0.1, (hidden_layers[-1] + 1, output_nodes)))\n",
    "        else:\n",
    "            w.append(np.random.normal(0, 0.1, (input_nodes + 1, output_nodes)))\n",
    "        return cls(w)\n",
    "\n",
    "    @classmethod\n",
    "    def from_weights(cls, w):\n",
    "        return cls(w)\n",
    "\n",
    "    @classmethod\n",
    "    def crossover(cls, dna_1, dna_2):\n",
    "        algo_maison = True\n",
    "        new_w = []\n",
    "        for m in range(len(dna_1)):\n",
    "            if not algo_maison:\n",
    "                new_m = np.zeros(dna_1[m].shape)\n",
    "                for i in range(len(dna_1[m])):\n",
    "                    for j in range(len(dna_1[m][i])):\n",
    "                        new_m[i][j] = dna_1[m][i][j] if random.random() > 0.5 else dna_2[m][i][j]\n",
    "                new_w.append(new_m)\n",
    "            else:\n",
    "                new_m = np.copy(dna_1[m].T)\n",
    "                for r in range(new_m.shape[0]):\n",
    "                    if random.random() > 0.5:\n",
    "                        new_m[r] = dna_2[m].T[r]\n",
    "                new_m = new_m.T\n",
    "                new_w.append(new_m)            \n",
    "        return new_w\n",
    "\n",
    "    @classmethod\n",
    "    def mutate(cls, dna, rate):\n",
    "        _w = []\n",
    "        for m in dna:\n",
    "            new_m = np.copy(m)\n",
    "            for w in np.nditer(new_m, op_flags=['readwrite']):\n",
    "                if random.random() < rate:\n",
    "                    w[...] = random.random()\n",
    "            _w.append(new_m)\n",
    "        return _w\n",
    "\n",
    "    def hidden_activation(self, Z):\n",
    "        return np.maximum(Z, 0)\n",
    "\n",
    "    def softmax_activation(self, Z):\n",
    "        exp = np.exp(Z - Z.max())\n",
    "        return np.array(exp / exp.sum())\n",
    "\n",
    "    def predict(self, inputs):\n",
    "        a = np.append(np.array(inputs), 1)\n",
    "        for i in range(len(self.W) - 1):\n",
    "            Z = np.squeeze(a @ self.W[i])\n",
    "            a = np.append(self.hidden_activation(Z), 1)\n",
    "        Z = np.squeeze(a @ self.W[-1])\n",
    "        a = self.softmax_activation(Z)\n",
    "        return np.argmax(a)\n",
    "\n",
    "    def get_weights_copy(self):\n",
    "        _w = []\n",
    "        for w in self.W:\n",
    "            _w.append(np.copy(w))\n",
    "        return _w"
   ]
  },
  {
   "cell_type": "code",
   "execution_count": 32,
   "metadata": {
    "pycharm": {
     "is_executing": false,
     "name": "#%%\n"
    }
   },
   "outputs": [],
   "source": [
    "class Agent:\n",
    "    def __init__(self, env, w = None):\n",
    "        self.action_size = env.action_space.n\n",
    "        self.observation_size = env.observation_space.shape[0]\n",
    "        self.fitness = 0\n",
    "        if w:\n",
    "            self.NN = NN.from_weights(w)\n",
    "        else:\n",
    "            self.NN = NN.from_params(self.observation_size, [8, 4], self.action_size)\n",
    "\n",
    "\n",
    "    def get_action(self, observation):\n",
    "        return self.NN.predict(observation)\n",
    "    \n",
    "    def set_fitness(self, fitness):\n",
    "        self.fitness = fitness\n",
    "        \n",
    "    def get_mutated_copy(self, rate):\n",
    "        return NN.mutate(self.NN.get_weights_copy(), rate)\n",
    "    \n",
    "    def get_dna(self):\n",
    "        return self.NN.get_weights_copy()\n",
    "        "
   ]
  },
  {
   "cell_type": "code",
   "execution_count": null,
   "metadata": {
    "pycharm": {
     "is_executing": true,
     "name": "#%%\n"
    }
   },
   "outputs": [
    {
     "name": "stdout",
     "output_type": "stream",
     "text": [
      "Fin de 1/50 meilleur agent 500.0 en 13 generation\n",
      "Fin de 2/50 meilleur agent 500.0 en 11 generation\n",
      "Fin de 3/50 meilleur agent 500.0 en 10 generation\n",
      "Fin de 4/50 meilleur agent 500.0 en 7 generation\n",
      "Fin de 5/50 meilleur agent 500.0 en 15 generation\n",
      "Fin de 6/50 meilleur agent 500.0 en 6 generation\n",
      "Fin de 7/50 meilleur agent 500.0 en 9 generation\n",
      "Fin de 8/50 meilleur agent 500.0 en 9 generation\n",
      "Fin de 9/50 meilleur agent 500.0 en 14 generation\n",
      "Fin de 10/50 meilleur agent 500.0 en 7 generation\n"
     ]
    }
   ],
   "source": [
    "gen_number = []\n",
    "rapport_stats = 50\n",
    "# Création de la première génération\n",
    "for eval in range(rapport_stats):\n",
    "    best_agent = None\n",
    "    TSO = True\n",
    "    mutation_rate = 0.01\n",
    "    total_run = 15\n",
    "    agent_quantity = 100 # un nombre carré\n",
    "    total_generation = 15\n",
    "    agents = [Agent(env) for i in range(agent_quantity)]\n",
    "    for generation in range(total_generation):\n",
    "        # print(\"Generation: \" + str(generation) + \" ----------------------------------------\")\n",
    "        # print(\"Testing \" + str(len(agents)) + \" agents...\")\n",
    "        \n",
    "        # Test de chaque agents    \n",
    "        for agent in agents:\n",
    "            fitness = 0\n",
    "            # max_pos = -2.0\n",
    "            # Chaque agent fait plusieurs essait\n",
    "            for run in range(total_run):\n",
    "                state = env.reset()\n",
    "                for t in range(1000):\n",
    "                    action = agent.get_action(state)\n",
    "                    state, reward, done, info = env.step(action)\n",
    "                    # max_pos = max(state[0], max_pos)\n",
    "                    \n",
    "                    # if state[0] > -0.2:\n",
    "                    #     reward = 1\n",
    "                    fitness += reward\n",
    "                    if done:\n",
    "                        break\n",
    "            agent.set_fitness(fitness/total_run)\n",
    "            \n",
    "    \n",
    "        best_candidate = max(agents, key=operator.attrgetter(\"fitness\"))\n",
    "        if best_agent is None or best_agent.fitness < best_candidate.fitness:\n",
    "            best_agent = best_candidate\n",
    "            \n",
    "        # print(\"Best candidate fitness: \" + str(best_candidate.fitness))\n",
    "        if best_candidate.fitness == 500.0:\n",
    "            # print(\"Early stopping\")\n",
    "            gen_number.append(generation+1)\n",
    "            best_agent = best_candidate\n",
    "            break\n",
    "        \n",
    "        # Nouvelle génération\n",
    "        # print(\"Creating new generation\")\n",
    "        # print(\"Parents:\")\n",
    "        parents = []\n",
    "        parents.append(best_candidate)\n",
    "        new_agents = []\n",
    "        \n",
    "        # Selection des parents par l'algorithme TOS\n",
    "        parent_quantity = int(agent_quantity ** 0.5-1)\n",
    "        if TSO:\n",
    "            tournament_size = parent_quantity\n",
    "            for i in range(parent_quantity):\n",
    "                selected_candidates = random.sample(agents, tournament_size)\n",
    "                champion = max(selected_candidates, key=operator.attrgetter(\"fitness\"))\n",
    "                parents.append(champion)\n",
    "                # Ajout du champion dans les prochains agents\n",
    "                new_agents.append(champion)\n",
    "            \n",
    "            # Chaque permutation de parent cré un enfant et est muté\n",
    "            for i, j in permutations(parents, 2):\n",
    "                child_dna = NN.crossover(i.get_dna(), j.get_dna())\n",
    "                if max(i.fitness, j.fitness) == -200:\n",
    "                    child = Agent(env, NN.mutate(child_dna, mutation_rate*80))\n",
    "                else:\n",
    "                    child = Agent(env, NN.mutate(child_dna, mutation_rate))\n",
    "                new_agents.append(child)\n",
    "        else:\n",
    "            agents.sort(key=operator.attrgetter(\"fitness\"), reverse=True)\n",
    "            for agent in agents[:parent_quantity]:\n",
    "                new_agents.append(agent)\n",
    "                parents.append(agent)\n",
    "        \n",
    "            for parent in parents:\n",
    "                for i in range(agent_quantity//parent_quantity-1):\n",
    "                    new_agents.append(Agent(env, NN.mutate(parent.get_dna(), mutation_rate)))\n",
    "        # for parent in parents:\n",
    "            # print(int(parent.fitness))\n",
    "    \n",
    "        \n",
    "        agents = new_agents\n",
    "    print(\"Fin de \" + str(eval+1) + \"/\" + str(rapport_stats), \"meilleur agent\", best_agent.fitness, \"en\", generation+1, \"generation\")\n",
    "print(np.mean(gen_number))\n",
    "print(\"End training\")"
   ]
  },
  {
   "cell_type": "code",
   "execution_count": 17,
   "metadata": {
    "pycharm": {
     "is_executing": false,
     "name": "#%%\n"
    }
   },
   "outputs": [
    {
     "name": "stdout",
     "output_type": "stream",
     "text": [
      "Best training fitness: 500.0\n",
      "498.53\n"
     ]
    }
   ],
   "source": [
    "evaluation_score = 0\n",
    "evaluation_runs = 100\n",
    "print(\"Best training fitness:\", best_agent.fitness)\n",
    "for run in range(evaluation_runs):\n",
    "    fitness = 0\n",
    "    state = env.reset()\n",
    "    for t in range(1000):\n",
    "        action = best_agent.get_action(state)\n",
    "        state, reward, done, info = env.step(action)\n",
    "        fitness += reward\n",
    "        if done:\n",
    "            evaluation_score+=fitness\n",
    "            break\n",
    "print(evaluation_score/evaluation_runs)\n"
   ]
  },
  {
   "cell_type": "code",
   "execution_count": 20,
   "metadata": {
    "pycharm": {
     "is_executing": false,
     "name": "#%%\n"
    }
   },
   "outputs": [
    {
     "name": "stdout",
     "output_type": "stream",
     "text": [
      "499\n"
     ]
    }
   ],
   "source": [
    "state = env.reset()\n",
    "score = 0\n",
    "for t in range(1000):\n",
    "    action = best_agent.get_action(state)\n",
    "    state, reward, done, info = env.step(action)\n",
    "    score += reward\n",
    "    env.render()\n",
    "    if done:\n",
    "        print(t)\n",
    "        break\n",
    "env.close()"
   ]
  },
  {
   "cell_type": "code",
   "execution_count": 40,
   "metadata": {
    "pycharm": {
     "is_executing": false,
     "name": "#%%\n"
    }
   },
   "outputs": [
    {
     "ename": "KeyboardInterrupt",
     "evalue": "",
     "output_type": "error",
     "traceback": [
      "\u001b[1;31m---------------------------------------------------------------------------\u001b[0m",
      "\u001b[1;31mKeyboardInterrupt\u001b[0m                         Traceback (most recent call last)",
      "\u001b[1;32m<ipython-input-40-846b67ada244>\u001b[0m in \u001b[0;36m<module>\u001b[1;34m\u001b[0m\n\u001b[0;32m      1\u001b[0m \u001b[1;31m# pydev_debug_cell\u001b[0m\u001b[1;33m\u001b[0m\u001b[1;33m\u001b[0m\u001b[1;33m\u001b[0m\u001b[0m\n\u001b[1;32m----> 2\u001b[1;33m \u001b[0menv\u001b[0m\u001b[1;33m.\u001b[0m\u001b[0mclose\u001b[0m\u001b[1;33m(\u001b[0m\u001b[1;33m)\u001b[0m\u001b[1;33m\u001b[0m\u001b[1;33m\u001b[0m\u001b[0m\n\u001b[0m",
      "\u001b[1;32m<ipython-input-40-846b67ada244>\u001b[0m in \u001b[0;36m<module>\u001b[1;34m\u001b[0m\n\u001b[0;32m      1\u001b[0m \u001b[1;31m# pydev_debug_cell\u001b[0m\u001b[1;33m\u001b[0m\u001b[1;33m\u001b[0m\u001b[1;33m\u001b[0m\u001b[0m\n\u001b[1;32m----> 2\u001b[1;33m \u001b[0menv\u001b[0m\u001b[1;33m.\u001b[0m\u001b[0mclose\u001b[0m\u001b[1;33m(\u001b[0m\u001b[1;33m)\u001b[0m\u001b[1;33m\u001b[0m\u001b[1;33m\u001b[0m\u001b[0m\n\u001b[0m",
      "\u001b[1;32m_pydevd_bundle\\pydevd_cython_win32_37_64.pyx\u001b[0m in \u001b[0;36m_pydevd_bundle.pydevd_cython_win32_37_64.SafeCallWrapper.__call__\u001b[1;34m()\u001b[0m\n",
      "\u001b[1;32m_pydevd_bundle\\pydevd_cython_win32_37_64.pyx\u001b[0m in \u001b[0;36m_pydevd_bundle.pydevd_cython_win32_37_64.PyDBFrame.trace_dispatch\u001b[1;34m()\u001b[0m\n",
      "\u001b[1;32m_pydevd_bundle\\pydevd_cython_win32_37_64.pyx\u001b[0m in \u001b[0;36m_pydevd_bundle.pydevd_cython_win32_37_64.PyDBFrame.trace_dispatch\u001b[1;34m()\u001b[0m\n",
      "\u001b[1;32m_pydevd_bundle\\pydevd_cython_win32_37_64.pyx\u001b[0m in \u001b[0;36m_pydevd_bundle.pydevd_cython_win32_37_64.PyDBFrame.trace_dispatch\u001b[1;34m()\u001b[0m\n",
      "\u001b[1;32m_pydevd_bundle\\pydevd_cython_win32_37_64.pyx\u001b[0m in \u001b[0;36m_pydevd_bundle.pydevd_cython_win32_37_64.PyDBFrame.do_wait_suspend\u001b[1;34m()\u001b[0m\n",
      "\u001b[1;32mC:\\Program Files\\JetBrains\\PyCharm 2019.3.4\\plugins\\python\\helpers\\pydev\\pydevd.py\u001b[0m in \u001b[0;36mdo_wait_suspend\u001b[1;34m(self, thread, frame, event, arg, send_suspend_message, is_unhandled_exception)\u001b[0m\n\u001b[0;32m   1097\u001b[0m \u001b[1;33m\u001b[0m\u001b[0m\n\u001b[0;32m   1098\u001b[0m         \u001b[1;32mwith\u001b[0m \u001b[0mself\u001b[0m\u001b[1;33m.\u001b[0m\u001b[0m_threads_suspended_single_notification\u001b[0m\u001b[1;33m.\u001b[0m\u001b[0mnotify_thread_suspended\u001b[0m\u001b[1;33m(\u001b[0m\u001b[0mthread_id\u001b[0m\u001b[1;33m,\u001b[0m \u001b[0mstop_reason\u001b[0m\u001b[1;33m)\u001b[0m\u001b[1;33m:\u001b[0m\u001b[1;33m\u001b[0m\u001b[1;33m\u001b[0m\u001b[0m\n\u001b[1;32m-> 1099\u001b[1;33m             \u001b[0mself\u001b[0m\u001b[1;33m.\u001b[0m\u001b[0m_do_wait_suspend\u001b[0m\u001b[1;33m(\u001b[0m\u001b[0mthread\u001b[0m\u001b[1;33m,\u001b[0m \u001b[0mframe\u001b[0m\u001b[1;33m,\u001b[0m \u001b[0mevent\u001b[0m\u001b[1;33m,\u001b[0m \u001b[0marg\u001b[0m\u001b[1;33m,\u001b[0m \u001b[0msuspend_type\u001b[0m\u001b[1;33m,\u001b[0m \u001b[0mfrom_this_thread\u001b[0m\u001b[1;33m)\u001b[0m\u001b[1;33m\u001b[0m\u001b[1;33m\u001b[0m\u001b[0m\n\u001b[0m\u001b[0;32m   1100\u001b[0m \u001b[1;33m\u001b[0m\u001b[0m\n\u001b[0;32m   1101\u001b[0m     \u001b[1;32mdef\u001b[0m \u001b[0m_do_wait_suspend\u001b[0m\u001b[1;33m(\u001b[0m\u001b[0mself\u001b[0m\u001b[1;33m,\u001b[0m \u001b[0mthread\u001b[0m\u001b[1;33m,\u001b[0m \u001b[0mframe\u001b[0m\u001b[1;33m,\u001b[0m \u001b[0mevent\u001b[0m\u001b[1;33m,\u001b[0m \u001b[0marg\u001b[0m\u001b[1;33m,\u001b[0m \u001b[0msuspend_type\u001b[0m\u001b[1;33m,\u001b[0m \u001b[0mfrom_this_thread\u001b[0m\u001b[1;33m)\u001b[0m\u001b[1;33m:\u001b[0m\u001b[1;33m\u001b[0m\u001b[1;33m\u001b[0m\u001b[0m\n",
      "\u001b[1;32mC:\\Program Files\\JetBrains\\PyCharm 2019.3.4\\plugins\\python\\helpers\\pydev\\pydevd.py\u001b[0m in \u001b[0;36m_do_wait_suspend\u001b[1;34m(self, thread, frame, event, arg, suspend_type, from_this_thread)\u001b[0m\n\u001b[0;32m   1112\u001b[0m \u001b[1;33m\u001b[0m\u001b[0m\n\u001b[0;32m   1113\u001b[0m                 \u001b[0mself\u001b[0m\u001b[1;33m.\u001b[0m\u001b[0mprocess_internal_commands\u001b[0m\u001b[1;33m(\u001b[0m\u001b[1;33m)\u001b[0m\u001b[1;33m\u001b[0m\u001b[1;33m\u001b[0m\u001b[0m\n\u001b[1;32m-> 1114\u001b[1;33m                 \u001b[0mtime\u001b[0m\u001b[1;33m.\u001b[0m\u001b[0msleep\u001b[0m\u001b[1;33m(\u001b[0m\u001b[1;36m0.01\u001b[0m\u001b[1;33m)\u001b[0m\u001b[1;33m\u001b[0m\u001b[1;33m\u001b[0m\u001b[0m\n\u001b[0m\u001b[0;32m   1115\u001b[0m \u001b[1;33m\u001b[0m\u001b[0m\n\u001b[0;32m   1116\u001b[0m         \u001b[0mself\u001b[0m\u001b[1;33m.\u001b[0m\u001b[0mcancel_async_evaluation\u001b[0m\u001b[1;33m(\u001b[0m\u001b[0mget_current_thread_id\u001b[0m\u001b[1;33m(\u001b[0m\u001b[0mthread\u001b[0m\u001b[1;33m)\u001b[0m\u001b[1;33m,\u001b[0m \u001b[0mstr\u001b[0m\u001b[1;33m(\u001b[0m\u001b[0mid\u001b[0m\u001b[1;33m(\u001b[0m\u001b[0mframe\u001b[0m\u001b[1;33m)\u001b[0m\u001b[1;33m)\u001b[0m\u001b[1;33m)\u001b[0m\u001b[1;33m\u001b[0m\u001b[1;33m\u001b[0m\u001b[0m\n",
      "\u001b[1;31mKeyboardInterrupt\u001b[0m: "
     ]
    }
   ],
   "source": [
    "env.close()"
   ]
  }
 ],
 "metadata": {
  "kernelspec": {
   "display_name": "Python 3",
   "language": "python",
   "name": "python3"
  },
  "language_info": {
   "codemirror_mode": {
    "name": "ipython",
    "version": 3
   },
   "file_extension": ".py",
   "mimetype": "text/x-python",
   "name": "python",
   "nbconvert_exporter": "python",
   "pygments_lexer": "ipython3",
   "version": "3.6.5"
  },
  "pycharm": {
   "stem_cell": {
    "cell_type": "raw",
    "metadata": {
     "collapsed": false
    },
    "source": []
   }
  }
 },
 "nbformat": 4,
 "nbformat_minor": 1
}
