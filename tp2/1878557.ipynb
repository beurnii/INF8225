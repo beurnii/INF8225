{
 "cells": [
  {
   "cell_type": "code",
   "execution_count": 16,
   "outputs": [],
   "source": [
    "#Partie 1\n",
    "from tensorflow import keras\n",
    "import numpy as np\n",
    "import matplotlib.pyplot as plt\n",
    "from sklearn.model_selection import train_test_split\n",
    "\n",
    "\n",
    "fashion_mnist = keras.datasets.fashion_mnist\n",
    "(train_images, train_labels), (test_images, test_labels) = fashion_mnist.load_data()\n",
    "\n",
    "L = 5\n",
    "K = len(np.unique(train_labels))\n",
    "lr = 0.001\n",
    "nb_epochs = 100\n",
    "node_per_hidden_layer = 300\n",
    "nb_batches = 1000\n",
    "W = []\n",
    "best_w = []\n",
    "losses = []\n",
    "best_accuracy = 0\n",
    "accuracies = []\n",
    "\n",
    "X_train = np.reshape(train_images, (train_images.shape[0], train_images.shape[1]*train_images.shape[2]))\n",
    "X_test = np.reshape(test_images, (test_images.shape[0], test_images.shape[1]*test_images.shape[2]))\n",
    "\n",
    "Y_train = np.zeros((train_labels.shape[0], K))\n",
    "Y_train[np.arange(Y_train.shape[0]), train_labels] = 1\n",
    "\n",
    "Y_test = np.zeros((test_labels.shape[0], K))\n",
    "Y_test[np.arange(Y_test.shape[0]), test_labels] = 1\n",
    "\n",
    "\n",
    "X_test, X_validation, Y_test, Y_validation = train_test_split(X_test, Y_test, test_size=0.5, random_state=42)\n"
   ],
   "metadata": {
    "collapsed": false,
    "pycharm": {
     "name": "#%%\n",
     "is_executing": false
    }
   }
  },
  {
   "cell_type": "code",
   "execution_count": 17,
   "outputs": [],
   "source": [
    "def set_w():\n",
    "    W.clear()\n",
    "    W.append(np.random.normal(0, 0.01, (X_train.shape[1]+1, node_per_hidden_layer)))\n",
    "    for i in range(L-1):\n",
    "        W.append(np.random.normal(0, 0.01, (node_per_hidden_layer+1, node_per_hidden_layer)))\n",
    "    W.append(np.random.normal(0, 0.01, (node_per_hidden_layer+1, K)))\n",
    "\n",
    "\n",
    "def softmax(z):\n",
    "    exp = np.exp(z - z.max(1)[:,np.newaxis])\n",
    "    return np.array(exp / exp.sum(1)[:,np.newaxis])\n",
    "\n",
    "\n",
    "def softmax_derivative(z):\n",
    "    sm = softmax(z)\n",
    "    return sm * (1-sm)\n",
    "\n",
    "\n",
    "def softmax_derivativeA(a):\n",
    "    return a * (1-a)\n",
    "\n",
    "\n",
    "def ReLU(z):\n",
    "    return np.maximum(z, 0)\n",
    "\n",
    "\n",
    "def ReLU_derivative(z):\n",
    "    return (z >= 0).astype(int)\n",
    "\n",
    "\n",
    "def ReLU_derivativeA(a):\n",
    "    return (a >= 0).astype(int)\n",
    "\n",
    "\n",
    "def get_loss(y, y_pred):\n",
    "    return -np.sum(y * np.log(y_pred))\n",
    "\n",
    "\n",
    "def get_accuracy(y, y_pred):\n",
    "    correct = 0\n",
    "    for i in range(len(y_pred)):\n",
    "        if np.argmax(y_pred[i]) == np.argmax(y[i]):\n",
    "            correct += 1\n",
    "    return correct / len(y)"
   ],
   "metadata": {
    "collapsed": false,
    "pycharm": {
     "name": "#%%\n",
     "is_executing": false
    }
   }
  },
  {
   "cell_type": "code",
   "execution_count": 18,
   "outputs": [],
   "source": [
    "def fit():\n",
    "    minibatch_size = len(X_train) // nb_batches\n",
    "    for epoch in range(nb_epochs):\n",
    "        permutaion = list(np.random.permutation(X_train.shape[0]))\n",
    "        X_shuffle = X_train[permutaion]\n",
    "        Y_shuffle = Y_train[permutaion]\n",
    "        print(\"Epoch----------------\", epoch)\n",
    "        for batche in range(0, X_shuffle.shape[0], minibatch_size):\n",
    "            Z = [None] * (L + 2)\n",
    "            a = [None] * (L + 2)\n",
    "            delta = [None] * (L + 2)\n",
    "            X = X_shuffle[batche:batche+minibatch_size]\n",
    "            Y = Y_shuffle[batche:batche+minibatch_size]\n",
    "\n",
    "            #forward propagation\n",
    "            a[0] = np.append(X, np.ones((len(X), 1)), axis=1)\n",
    "            for i in range(L):\n",
    "                Z[i + 1] = a[i] @ W[i]\n",
    "                a[i + 1] = np.append(ReLU(Z[i+1]), np.ones((len(Z[i+1]), 1), dtype=int), axis=1)\n",
    "\n",
    "            Z[-1] = a[L] @ W[L]\n",
    "            a[-1] = softmax(Z[-1])\n",
    "\n",
    "            #back propagation\n",
    "            delta[-1] = (Y - a[-1]) * softmax_derivativeA(a[-1])\n",
    "            for i in range(L, 0, -1):\n",
    "                delta[i] = (delta[i+1] @ W[i].T)[:,:-1] * ReLU_derivative(Z[i])\n",
    "\n",
    "            for i in range(len(W)):\n",
    "                g = a[i].T @ delta[i+1] / len(delta[i+1])\n",
    "                W[i] = W[i] + lr * g\n",
    "\n",
    "        get_loss_and_accuracy(True)   "
   ],
   "metadata": {
    "collapsed": false,
    "pycharm": {
     "name": "#%%\n",
     "is_executing": false
    }
   }
  },
  {
   "cell_type": "code",
   "execution_count": 19,
   "outputs": [],
   "source": [
    "\n",
    "def get_loss_and_accuracy(validation):\n",
    "    global best_accuracy, best_w\n",
    "    X = X_test\n",
    "    Y = Y_test\n",
    "    if validation:\n",
    "        X = X_validation\n",
    "        Y = Y_validation\n",
    "               \n",
    "    Z = [None] * (L + 2)\n",
    "    a = [None] * (L + 2)\n",
    "\n",
    "    a[0] = np.append(X, np.ones((len(X), 1)), axis=1)\n",
    "    for i in range(L):\n",
    "        Z[i + 1] = a[i] @ W[i]\n",
    "        a[i + 1] = np.append(ReLU(Z[i+1]), np.ones((len(X), 1)), axis=1)\n",
    "\n",
    "    Z[-1] = a[L] @ W[L]\n",
    "    a[-1] = softmax(Z[-1])\n",
    "    loss = get_loss(Y, a[-1])\n",
    "    accuracy = get_accuracy(Y, a[-1])\n",
    "    if validation:\n",
    "        if accuracy > best_accuracy:\n",
    "            best_accuracy = accuracy\n",
    "            best_w = W.copy()\n",
    "        accuracies.append(accuracy)\n",
    "        losses.append(loss)"
   ],
   "metadata": {
    "collapsed": false,
    "pycharm": {
     "name": "#%%\n",
     "is_executing": false
    }
   }
  },
  {
   "cell_type": "code",
   "execution_count": 20,
   "outputs": [
    {
     "name": "stdout",
     "text": [
      "Epoch---------------- 0\n",
      "Epoch---------------- 1\n",
      "Epoch---------------- 2\n",
      "Epoch---------------- 3\n",
      "Epoch---------------- 4\n",
      "Epoch---------------- 5\n",
      "Epoch---------------- 6\n",
      "Epoch---------------- 7\n",
      "Epoch---------------- 8\n",
      "Epoch---------------- 9\n",
      "Epoch---------------- 10\n",
      "Epoch---------------- 11\n",
      "Epoch---------------- 12\n",
      "Epoch---------------- 13\n",
      "Epoch---------------- 14\n",
      "Epoch---------------- 15\n",
      "Epoch---------------- 16\n",
      "Epoch---------------- 17\n",
      "Epoch---------------- 18\n",
      "Epoch---------------- 19\n",
      "Epoch---------------- 20\n",
      "Epoch---------------- 21\n",
      "Epoch---------------- 22\n",
      "Epoch---------------- 23\n",
      "Epoch---------------- 24\n",
      "Epoch---------------- 25\n",
      "Epoch---------------- 26\n",
      "Epoch---------------- 27\n",
      "Epoch---------------- 28\n",
      "Epoch---------------- 29\n",
      "Epoch---------------- 30\n",
      "Epoch---------------- 31\n",
      "Epoch---------------- 32\n",
      "Epoch---------------- 33\n",
      "Epoch---------------- 34\n",
      "Epoch---------------- 35\n",
      "Epoch---------------- 36\n",
      "Epoch---------------- 37\n",
      "Epoch---------------- 38\n",
      "Epoch---------------- 39\n",
      "Epoch---------------- 40\n",
      "Epoch---------------- 41\n",
      "Epoch---------------- 42\n",
      "Epoch---------------- 43\n",
      "Epoch---------------- 44\n",
      "Epoch---------------- 45\n",
      "Epoch---------------- 46\n",
      "Epoch---------------- 47\n",
      "Epoch---------------- 48\n",
      "Epoch---------------- 49\n",
      "Epoch---------------- 50\n",
      "Epoch---------------- 51\n",
      "Epoch---------------- 52\n",
      "Epoch---------------- 53\n",
      "Epoch---------------- 54\n",
      "Epoch---------------- 55\n",
      "Epoch---------------- 56\n",
      "Epoch---------------- 57\n",
      "Epoch---------------- 58\n",
      "Epoch---------------- 59\n",
      "Epoch---------------- 60\n",
      "Epoch---------------- 61\n",
      "Epoch---------------- 62\n",
      "Epoch---------------- 63\n",
      "Epoch---------------- 64\n",
      "Epoch---------------- 65\n",
      "Epoch---------------- 66\n",
      "Epoch---------------- 67\n",
      "Epoch---------------- 68\n",
      "Epoch---------------- 69\n",
      "Epoch---------------- 70\n",
      "Epoch---------------- 71\n",
      "Epoch---------------- 72\n",
      "Epoch---------------- 73\n",
      "Epoch---------------- 74\n",
      "Epoch---------------- 75\n",
      "Epoch---------------- 76\n",
      "Epoch---------------- 77\n",
      "Epoch---------------- 78\n",
      "Epoch---------------- 79\n",
      "Epoch---------------- 80\n",
      "Epoch---------------- 81\n",
      "Epoch---------------- 82\n",
      "Epoch---------------- 83\n",
      "Epoch---------------- 84\n",
      "Epoch---------------- 85\n",
      "Epoch---------------- 86\n",
      "Epoch---------------- 87\n",
      "Epoch---------------- 88\n",
      "Epoch---------------- 89\n",
      "Epoch---------------- 90\n",
      "Epoch---------------- 91\n",
      "Epoch---------------- 92\n",
      "Epoch---------------- 93\n",
      "Epoch---------------- 94\n",
      "Epoch---------------- 95\n",
      "Epoch---------------- 96\n",
      "Epoch---------------- 97\n",
      "Epoch---------------- 98\n",
      "Epoch---------------- 99\n"
     ],
     "output_type": "stream"
    },
    {
     "name": "stderr",
     "text": [
      "C:\\ProgramData\\Anaconda3\\lib\\site-packages\\ipykernel_launcher.py:36: RuntimeWarning: divide by zero encountered in log\nC:\\ProgramData\\Anaconda3\\lib\\site-packages\\ipykernel_launcher.py:36: RuntimeWarning: invalid value encountered in multiply\n"
     ],
     "output_type": "stream"
    }
   ],
   "source": [
    "set_w()\n",
    "losses.clear()\n",
    "fit()\n"
   ],
   "metadata": {
    "collapsed": false,
    "pycharm": {
     "name": "#%%\n",
     "is_executing": false
    }
   }
  },
  {
   "cell_type": "code",
   "execution_count": 21,
   "outputs": [
    {
     "name": "stderr",
     "text": [
      "C:\\ProgramData\\Anaconda3\\lib\\site-packages\\ipykernel_launcher.py:36: RuntimeWarning: divide by zero encountered in log\nC:\\ProgramData\\Anaconda3\\lib\\site-packages\\ipykernel_launcher.py:36: RuntimeWarning: invalid value encountered in multiply\n"
     ],
     "output_type": "stream"
    }
   ],
   "source": [
    "get_loss_and_accuracy(False)\n"
   ],
   "metadata": {
    "collapsed": false,
    "pycharm": {
     "name": "#%%\n",
     "is_executing": false
    }
   }
  },
  {
   "cell_type": "code",
   "execution_count": 22,
   "outputs": [
    {
     "data": {
      "text/plain": "<Figure size 432x288 with 1 Axes>",
      "image/png": "[encoded data removed]"
     },
     "metadata": {
      "needs_background": "light"
     },
     "output_type": "display_data"
    },
    {
     "data": {
      "text/plain": "<Figure size 432x288 with 1 Axes>",
      "image/png": "[encoded data removed]"
     },
     "metadata": {
      "needs_background": "light"
     },
     "output_type": "display_data"
    }
   ],
   "source": [
    "\n",
    "plt.plot(losses, label= \"Validation set. Nombre de batch: \" + str(nb_batches))\n",
    "plt.ylabel(\"Losses\")\n",
    "plt.xlabel(\"epoch\")\n",
    "plt.legend()\n",
    "plt.show()\n",
    "plt.plot(accuracies, label=\"validation set. Top accuracy: \" + str(best_accuracy))\n",
    "plt.ylabel(\"accuracy\")\n",
    "plt.xlabel(\"epoch\")\n",
    "plt.legend()\n",
    "plt.show()"
   ],
   "metadata": {
    "collapsed": false,
    "pycharm": {
     "name": "#%%\n",
     "is_executing": false
    }
   }
  }
 ],
 "metadata": {
  "kernelspec": {
   "display_name": "Python 3",
   "language": "python",
   "name": "python3"
  },
  "language_info": {
   "codemirror_mode": {
    "name": "ipython",
    "version": 2
   },
   "file_extension": ".py",
   "mimetype": "text/x-python",
   "name": "python",
   "nbconvert_exporter": "python",
   "pygments_lexer": "ipython2",
   "version": "2.7.6"
  },
  "pycharm": {
   "stem_cell": {
    "cell_type": "raw",
    "source": [],
    "metadata": {
     "collapsed": false
    }
   }
  }
 },
 "nbformat": 4,
 "nbformat_minor": 0
}