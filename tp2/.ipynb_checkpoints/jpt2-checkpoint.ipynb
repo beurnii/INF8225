{
 "cells": [
  {
   "cell_type": "markdown",
   "metadata": {
    "collapsed": true,
    "pycharm": {
     "is_executing": false
    }
   },
   "source": [
    "ALLLO"
   ]
  },
  {
   "cell_type": "code",
   "execution_count": 90,
   "metadata": {
    "pycharm": {
     "is_executing": false,
     "name": "#%%\n"
    }
   },
   "outputs": [],
   "source": [
    "\n",
    "from tensorflow import keras\n",
    "import numpy as np\n",
    "import matplotlib.pyplot as plt\n",
    "\n",
    "fashion_mnist = keras.datasets.fashion_mnist\n",
    "(train_images, train_labels), (test_images, test_labels) = fashion_mnist.load_data()\n",
    "\n",
    "L = 2\n",
    "K = 10\n",
    "\n",
    "\n",
    "X_train = np.reshape(train_images, (train_images.shape[0], 784))\n",
    "X_test = np.reshape(test_images, (test_images.shape[0], 784))\n",
    "\n",
    "Y_train = np.zeros((train_labels.shape[0], len(np.unique(train_labels))))\n",
    "Y_train[np.arange(Y_train.shape[0]), train_labels] = 1\n",
    "\n",
    "Y_test = np.zeros((test_labels.shape[0], len(np.unique(test_labels))))\n",
    "Y_test[np.arange(Y_test.shape[0]), test_labels] = 1\n",
    "\n",
    "\n",
    "lr = 0.001\n",
    "nb_epochs = 50\n",
    "W = []\n",
    "losses_test = []\n",
    "\n",
    "W.append(np.random.normal(0, 0.01, (784, 300)))\n",
    "for i in range(L-1):\n",
    "    W.append(np.random.normal(0, 0.01, (301, 300)))\n",
    "W.append(np.random.normal(0, 0.01, (301, K)))\n"
   ]
  },
  {
   "cell_type": "code",
   "execution_count": 76,
   "metadata": {
    "pycharm": {
     "is_executing": false,
     "name": "#%%\n"
    }
   },
   "outputs": [],
   "source": [
    "\n",
    "def softmax(z):\n",
    "    exp = np.exp(z - z.max(0))\n",
    "    return np.array(exp / exp.sum(0)[np.newaxis,:])\n",
    "\n",
    "\n",
    "def softMaxInverse(z):\n",
    "    sm = softmax(z)\n",
    "    return sm * (1-sm)\n",
    "\n",
    "\n",
    "def ReLU(z):\n",
    "    return np.maximum(z, 0)\n",
    "\n",
    "\n",
    "def ReLUReverse(z):\n",
    "    return (z >= 0).astype(int)\n",
    "\n",
    "\n",
    "def get_loss(y, y_pred):\n",
    "    return -np.sum(y * np.log(y_pred))"
   ]
  },
  {
   "cell_type": "code",
   "execution_count": 91,
   "metadata": {
    "pycharm": {
     "is_executing": false,
     "name": "#%%\n"
    }
   },
   "outputs": [],
   "source": [
    "def main():\n",
    "    minibatch_size = len(X_train) // 20\n",
    "    for epoch in range(nb_epochs):\n",
    "        permutaion = list(np.random.permutation(X_train.shape[0]))\n",
    "        X_shuffle = X_train[permutaion]\n",
    "        Y_shuffle = Y_train[permutaion]\n",
    "        print(\"Epoch----------------\", epoch)\n",
    "        for x in range(0, X_shuffle.shape[0], minibatch_size):\n",
    "            Z = [None] * (L + 2)\n",
    "            a = [None] * (L + 2)\n",
    "            delta = [None] * (L + 2)\n",
    "\n",
    "            #forward propagation\n",
    "            a[0] = X_train[x:x+minibatch_size].T\n",
    "            for i in range(L):\n",
    "                Z[i + 1] = W[i].T @ a[i]\n",
    "                a[i + 1] = np.append(ReLU(Z[i+1]), np.ones((1, Z[i+1].shape[1]), dtype=int), axis=0)\n",
    "\n",
    "            Z[-1] = W[L].T @ a[L] \n",
    "            a[-1] = softmax(Z[-1])\n",
    "        #######################################\n",
    "            if True:\n",
    "                #back propagation\n",
    "                delta[-1] = (Y_shuffle[x:x+minibatch_size].T - a[-1]) * softMaxInverse(Z[-1])\n",
    "                for i in range(L, 0, -1):\n",
    "                    delta[i] = ( W[i] @ delta[i+1])[:-1,:] * ReLUReverse(Z[i])\n",
    "\n",
    "                # for d in range(1, len(delta)):\n",
    "                #     delta[d] = np.mean(delta[d], axis=1)\n",
    "                # \n",
    "                # delta[-1] = np.mean(softMaxInverse(Z[-1]) * (Y_shuffle[x:x+minibatch_size] - a[-1]), axis=0)\n",
    "                # for i in range(L, 0, -1):\n",
    "                #     e = (delta[i+1] @ W[i].T)\n",
    "                #     delta[i] = np.mean(ReLUReverse(Z[i]), axis=0) * e[:-1]\n",
    "                    \n",
    "    \n",
    "                for i in range(len(W)):\n",
    "                    modif = np.outer(np.mean(a[i], axis=1), delta[i+1])\n",
    "                    W[i] = W[i] + lr * modif\n",
    "\n",
    "        #######################################\n",
    "            else:\n",
    "                #grosse matrice slow\n",
    "                delta[-1] = softMaxInverse(Z[-1]) * (Y_train[x:x+minibatch_size] - a[-1])\n",
    "                for i in range(L, 0, -1):\n",
    "                    m = (delta[i+1] @ W[i].T)\n",
    "                    delta[i] = ReLUReverse(Z[i]) * m[:,:-1]\n",
    "    \n",
    "    \n",
    "                for i in range(len(W)):\n",
    "                    o = np.matmul(a[i][:,:,np.newaxis], delta[i+1][:,np.newaxis,:])\n",
    "                    W[i] = W[i] + lr * np.mean(o, axis=0)\n",
    "\n",
    "        test()   "
   ]
  },
  {
   "cell_type": "code",
   "execution_count": 78,
   "metadata": {
    "pycharm": {
     "is_executing": false,
     "name": "#%%\n"
    }
   },
   "outputs": [],
   "source": [
    "\n",
    "\n",
    "def test():\n",
    "    Z_test = [None] * (L + 2)\n",
    "    a_test = [None] * (L + 2)\n",
    "\n",
    "    a_test[0] = X_test\n",
    "    for i in range(L):\n",
    "        Z_test[i + 1] = a_test[i] @ W[i]\n",
    "        r = ReLU(Z_test[i+1])\n",
    "        b = np.ones((Z_test[i+1].shape[0], 1), dtype=int)\n",
    "        a_test[i + 1] = np.append(r, b, axis=1)\n",
    "\n",
    "    Z_test[-1] = a_test[L] @ W[L]\n",
    "    a_test[-1] = softmax(Z_test[-1])\n",
    "\n",
    "    losses_test.append(get_loss(Y_test, a_test[-1]))"
   ]
  },
  {
   "cell_type": "code",
   "execution_count": 79,
   "metadata": {
    "pycharm": {
     "is_executing": false,
     "name": "#%%\n"
    }
   },
   "outputs": [],
   "source": [
    "def softmax1D(z):\n",
    "    exp = np.exp(z - z.max(0))\n",
    "    return np.array(exp / exp.sum(0))\n",
    "\n",
    "\n",
    "\n",
    "\n",
    "def guess(index):\n",
    "    Z_test = [None] * (L + 2)\n",
    "    a_test = [None] * (L + 2)\n",
    "    a_test[0] = X_test[index]\n",
    "    for i in range(L):\n",
    "        Z_test[i + 1] = a_test[i] @ W[i]\n",
    "        q = ReLU(Z_test[i+1])\n",
    "        f = np.ones((Z_test[i+1].shape[0], 1), dtype=int)\n",
    "        a_test[i + 1] = np.append(ReLU(Z_test[i+1]), 1)\n",
    "    Z_test[-1] = a_test[L] @ W[L]\n",
    "    a_test[-1] = softmax1D(Z_test[-1])\n",
    "    plt.imshow(test_images[index])\n",
    "    plt.show()\n",
    "    for j, k in enumerate(a_test[-1]):\n",
    "        print(j, k)\n",
    "    print(\"Correct: \", test_labels[index], \"Choisi: \", np.argmax(a_test[-1]))"
   ]
  },
  {
   "cell_type": "code",
   "execution_count": null,
   "metadata": {
    "pycharm": {
     "is_executing": true,
     "name": "#%%\n"
    }
   },
   "outputs": [
    {
     "name": "stdout",
     "output_type": "stream",
     "text": [
      "Epoch---------------- 0\n"
     ]
    }
   ],
   "source": [
    "losses_test.clear()\n",
    "main()\n",
    "plt.plot(losses_test)\n",
    "plt.show()\n"
   ]
  },
  {
   "cell_type": "code",
   "execution_count": 81,
   "metadata": {
    "pycharm": {
     "is_executing": false,
     "name": "#%%\n"
    }
   },
   "outputs": [
    {
     "data": {
      "image/png": "[encoded data removed]",
      "text/plain": [
       "<Figure size 432x288 with 1 Axes>"
      ]
     },
     "metadata": {
      "needs_background": "light"
     },
     "output_type": "display_data"
    },
    {
     "name": "stdout",
     "output_type": "stream",
     "text": [
      "0 0.0962449356366083\n",
      "1 0.12056664164934248\n",
      "2 0.06745420695287568\n",
      "3 0.07534938344708311\n",
      "4 0.11047111702610829\n",
      "5 0.09056269168476751\n",
      "6 0.16265159073746344\n",
      "7 0.09666217048997185\n",
      "8 0.11030758184426392\n",
      "9 0.06972968053151533\n",
      "Correct:  2 Choisi:  6\n"
     ]
    }
   ],
   "source": [
    "guess(1)\n",
    "\n"
   ]
  }
 ],
 "metadata": {
  "kernelspec": {
   "display_name": "Python 3",
   "language": "python",
   "name": "python3"
  },
  "language_info": {
   "codemirror_mode": {
    "name": "ipython",
    "version": 2
   },
   "file_extension": ".py",
   "mimetype": "text/x-python",
   "name": "python",
   "nbconvert_exporter": "python",
   "pygments_lexer": "ipython2",
   "version": "2.7.6"
  },
  "pycharm": {
   "stem_cell": {
    "cell_type": "raw",
    "metadata": {
     "collapsed": false
    },
    "source": []
   }
  }
 },
 "nbformat": 4,
 "nbformat_minor": 1
}
