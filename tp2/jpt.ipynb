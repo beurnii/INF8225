{
 "cells": [
  {
   "cell_type": "code",
   "execution_count": 55,
   "metadata": {
    "collapsed": true,
    "pycharm": {
     "is_executing": false
    }
   },
   "outputs": [],
   "source": [
    "\n",
    "from tensorflow import keras\n",
    "import numpy as np\n",
    "import matplotlib.pyplot as plt\n",
    "\n",
    "fashion_mnist = keras.datasets.fashion_mnist\n",
    "(train_images, train_labels), (test_images, test_labels) = fashion_mnist.load_data()\n",
    "\n",
    "L = 2\n",
    "K = 10\n",
    "\n",
    "\n",
    "X_train = np.reshape(train_images, (train_images.shape[0], 784))\n",
    "X_test = np.reshape(test_images, (test_images.shape[0], 784))\n",
    "\n",
    "Y_train = np.zeros((train_labels.shape[0], len(np.unique(train_labels))))\n",
    "Y_train[np.arange(Y_train.shape[0]), train_labels] = 1\n",
    "\n",
    "Y_test = np.zeros((test_labels.shape[0], len(np.unique(test_labels))))\n",
    "Y_test[np.arange(Y_test.shape[0]), test_labels] = 1\n",
    "\n",
    "\n",
    "lr = 0.001\n",
    "nb_epochs = 50\n",
    "W = []\n",
    "losses_test = []\n",
    "\n",
    "W.append(np.random.normal(0, 0.01, (784, 300)))\n",
    "for i in range(L-1):\n",
    "    W.append(np.random.normal(0, 0.01, (301, 300)))\n",
    "W.append(np.random.normal(0, 0.01, (301, K)))\n"
   ]
  },
  {
   "cell_type": "code",
   "execution_count": 56,
   "outputs": [],
   "source": [
    "\n",
    "def softmax(z):\n",
    "    exp = np.exp(z - z.max(1)[:, np.newaxis])\n",
    "    return np.array(exp / exp.sum(1)[:, np.newaxis])\n",
    "\n",
    "\n",
    "def softMaxInverse(z):\n",
    "    sm = softmax(z)\n",
    "    return sm * (1-sm)\n",
    "\n",
    "\n",
    "def ReLU(z):\n",
    "    return np.maximum(z, 0)\n",
    "\n",
    "\n",
    "def ReLUReverse(z):\n",
    "    return (z >= 0).astype(int)\n",
    "\n",
    "\n",
    "def get_loss(y, y_pred):\n",
    "    return -np.sum(y * np.log(y_pred))"
   ],
   "metadata": {
    "collapsed": false,
    "pycharm": {
     "name": "#%%\n",
     "is_executing": false
    }
   }
  },
  {
   "cell_type": "code",
   "execution_count": 57,
   "outputs": [],
   "source": [
    "def main():\n",
    "    minibatch_size = len(X_train) // 20\n",
    "    for epoch in range(nb_epochs):\n",
    "        permutaion = list(np.random.permutation(X_train.shape[0]))\n",
    "        X_shuffle = X_train[permutaion]\n",
    "        Y_shuffle = Y_train[permutaion]\n",
    "        print(\"Epoch----------------\", epoch)\n",
    "        for x in range(0, X_shuffle.shape[0], minibatch_size):\n",
    "            Z = [None] * (L + 2)\n",
    "            a = [None] * (L + 2)\n",
    "            delta = [None] * (L + 2)\n",
    "\n",
    "            #forward propagation\n",
    "            a[0] = X_train[x:x+minibatch_size]\n",
    "            for i in range(L):\n",
    "                Z[i + 1] = a[i] @ W[i]\n",
    "                a[i + 1] = np.append(ReLU(Z[i+1]), np.ones((Z[i+1].shape[0], 1), dtype=int), axis=1)\n",
    "\n",
    "            Z[-1] = a[L] @ W[L]\n",
    "            a[-1] = softmax(Z[-1])\n",
    "        #######################################\n",
    "            if True:\n",
    "                #back propagation\n",
    "                delta[-1] = softMaxInverse(Z[-1]) * (Y_shuffle[x:x+minibatch_size] - a[-1])\n",
    "                for i in range(L, 0, -1):\n",
    "                    m = (delta[i+1] @ W[i].T)\n",
    "                    delta[i] = ReLUReverse(Z[i]) * m[:,:-1]\n",
    "\n",
    "                for d in range(1, len(delta)):\n",
    "                    delta[d] = np.mean(delta[d], axis=0)\n",
    "    \n",
    "                # delta[-1] = np.mean(softMaxInverse(Z[-1]) * (Y_shuffle[x:x+minibatch_size] - a[-1]), axis=0)\n",
    "                # for i in range(L, 0, -1):\n",
    "                #     e = (delta[i+1] @ W[i].T)\n",
    "                #     delta[i] = np.mean(ReLUReverse(Z[i]), axis=0) * e[:-1]\n",
    "                    \n",
    "    \n",
    "                for i in range(len(W)):\n",
    "                    modif = np.outer(np.mean(a[i], axis=0), delta[i+1][np.newaxis,:])\n",
    "                    W[i] = W[i] + lr * modif\n",
    "\n",
    "        #######################################\n",
    "            else:\n",
    "                #grosse matrice slow\n",
    "                delta[-1] = softMaxInverse(Z[-1]) * (Y_train[x:x+minibatch_size] - a[-1])\n",
    "                for i in range(L, 0, -1):\n",
    "                    m = (delta[i+1] @ W[i].T)\n",
    "                    delta[i] = ReLUReverse(Z[i]) * m[:,:-1]\n",
    "    \n",
    "    \n",
    "                for i in range(len(W)):\n",
    "                    o = np.matmul(a[i][:,:,np.newaxis], delta[i+1][:,np.newaxis,:])\n",
    "                    W[i] = W[i] + lr * np.mean(o, axis=0)\n",
    "\n",
    "        test()   "
   ],
   "metadata": {
    "collapsed": false,
    "pycharm": {
     "name": "#%%\n",
     "is_executing": false
    }
   }
  },
  {
   "cell_type": "code",
   "execution_count": 58,
   "outputs": [],
   "source": [
    "\n",
    "\n",
    "def test():\n",
    "    Z_test = [None] * (L + 2)\n",
    "    a_test = [None] * (L + 2)\n",
    "\n",
    "    a_test[0] = X_test\n",
    "    for i in range(L):\n",
    "        Z_test[i + 1] = a_test[i] @ W[i]\n",
    "        r = ReLU(Z_test[i+1])\n",
    "        b = np.ones((Z_test[i+1].shape[0], 1), dtype=int)\n",
    "        a_test[i + 1] = np.append(r, b, axis=1)\n",
    "\n",
    "    Z_test[-1] = a_test[L] @ W[L]\n",
    "    a_test[-1] = softmax(Z_test[-1])\n",
    "\n",
    "    losses_test.append(get_loss(Y_test, a_test[-1]))"
   ],
   "metadata": {
    "collapsed": false,
    "pycharm": {
     "name": "#%%\n",
     "is_executing": false
    }
   }
  },
  {
   "cell_type": "code",
   "execution_count": 59,
   "outputs": [],
   "source": [
    "def softmax1D(z):\n",
    "    exp = np.exp(z - z.max(0))\n",
    "    return np.array(exp / exp.sum(0))\n",
    "\n",
    "\n",
    "\n",
    "\n",
    "def guess(index):\n",
    "    Z_test = [None] * (L + 2)\n",
    "    a_test = [None] * (L + 2)\n",
    "    a_test[0] = X_test[index]\n",
    "    for i in range(L):\n",
    "        Z_test[i + 1] = a_test[i] @ W[i]\n",
    "        q = ReLU(Z_test[i+1])\n",
    "        f = np.ones((Z_test[i+1].shape[0], 1), dtype=int)\n",
    "        a_test[i + 1] = np.append(ReLU(Z_test[i+1]), 1)\n",
    "    Z_test[-1] = a_test[L] @ W[L]\n",
    "    a_test[-1] = softmax1D(Z_test[-1])\n",
    "    plt.imshow(test_images[index])\n",
    "    plt.show()\n",
    "    for j, k in enumerate(a_test[-1]):\n",
    "        print(j, k)\n",
    "    print(\"Correct: \", test_labels[index], \"Choisi: \", np.argmax(a_test[-1]))"
   ],
   "metadata": {
    "collapsed": false,
    "pycharm": {
     "name": "#%%\n",
     "is_executing": false
    }
   }
  },
  {
   "cell_type": "code",
   "execution_count": 60,
   "outputs": [
    {
     "name": "stdout",
     "text": [
      "Epoch---------------- 0\n",
      "Epoch---------------- 1\n",
      "Epoch---------------- 2\n",
      "Epoch---------------- 3\n",
      "Epoch---------------- 4\n",
      "Epoch---------------- 5\n",
      "Epoch---------------- 6\n",
      "Epoch---------------- 7\n",
      "Epoch---------------- 8\n",
      "Epoch---------------- 9\n",
      "Epoch---------------- 10\n",
      "Epoch---------------- 11\n",
      "Epoch---------------- 12\n",
      "Epoch---------------- 13\n",
      "Epoch---------------- 14\n",
      "Epoch---------------- 15\n",
      "Epoch---------------- 16\n",
      "Epoch---------------- 17\n",
      "Epoch---------------- 18\n",
      "Epoch---------------- 19\n",
      "Epoch---------------- 20\n",
      "Epoch---------------- 21\n",
      "Epoch---------------- 22\n",
      "Epoch---------------- 23\n",
      "Epoch---------------- 24\n",
      "Epoch---------------- 25\n",
      "Epoch---------------- 26\n",
      "Epoch---------------- 27\n",
      "Epoch---------------- 28\n",
      "Epoch---------------- 29\n",
      "Epoch---------------- 30\n",
      "Epoch---------------- 31\n",
      "Epoch---------------- 32\n",
      "Epoch---------------- 33\n",
      "Epoch---------------- 34\n",
      "Epoch---------------- 35\n",
      "Epoch---------------- 36\n",
      "Epoch---------------- 37\n",
      "Epoch---------------- 38\n",
      "Epoch---------------- 39\n",
      "Epoch---------------- 40\n",
      "Epoch---------------- 41\n",
      "Epoch---------------- 42\n",
      "Epoch---------------- 43\n",
      "Epoch---------------- 44\n",
      "Epoch---------------- 45\n",
      "Epoch---------------- 46\n",
      "Epoch---------------- 47\n",
      "Epoch---------------- 48\n",
      "Epoch---------------- 49\n"
     ],
     "output_type": "stream"
    },
    {
     "data": {
      "text/plain": "<Figure size 432x288 with 1 Axes>",
      "image/png": "[encoded data removed]"
     },
     "metadata": {
      "needs_background": "light"
     },
     "output_type": "display_data"
    }
   ],
   "source": [
    "main()\n",
    "plt.plot(losses_test)\n",
    "plt.show()\n"
   ],
   "metadata": {
    "collapsed": false,
    "pycharm": {
     "name": "#%%\n",
     "is_executing": false
    }
   }
  },
  {
   "cell_type": "code",
   "execution_count": 61,
   "outputs": [
    {
     "data": {
      "text/plain": "<Figure size 432x288 with 1 Axes>",
      "image/png": "[encoded data removed]"
     },
     "metadata": {
      "needs_background": "light"
     },
     "output_type": "display_data"
    },
    {
     "name": "stdout",
     "text": [
      "0 1.0\n1 1.327037889569939e-23\n2 1.7672743208099354e-24\n3 1.2326829179702544e-23\n4 2.0381395009472822e-23\n5 7.294592247280371e-25\n6 6.778096669287569e-25\n7 9.689173103393032e-23\n8 2.5282487721661852e-23\n9 3.662790253720235e-24\nCorrect:  2 Choisi:  0\n"
     ],
     "output_type": "stream"
    }
   ],
   "source": [
    "guess(1)\n",
    "\n"
   ],
   "metadata": {
    "collapsed": false,
    "pycharm": {
     "name": "#%%\n",
     "is_executing": false
    }
   }
  }
 ],
 "metadata": {
  "kernelspec": {
   "display_name": "Python 3",
   "language": "python",
   "name": "python3"
  },
  "language_info": {
   "codemirror_mode": {
    "name": "ipython",
    "version": 2
   },
   "file_extension": ".py",
   "mimetype": "text/x-python",
   "name": "python",
   "nbconvert_exporter": "python",
   "pygments_lexer": "ipython2",
   "version": "2.7.6"
  },
  "pycharm": {
   "stem_cell": {
    "cell_type": "raw",
    "source": [],
    "metadata": {
     "collapsed": false
    }
   }
  }
 },
 "nbformat": 4,
 "nbformat_minor": 0
}