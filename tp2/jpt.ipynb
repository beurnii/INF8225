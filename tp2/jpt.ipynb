{
 "cells": [
  {
   "cell_type": "code",
   "execution_count": 32,
   "outputs": [],
   "source": [
    "from tensorflow import keras\n",
    "import numpy as np\n",
    "import matplotlib.pyplot as plt\n",
    "\n",
    "fashion_mnist = keras.datasets.fashion_mnist\n",
    "(train_images, train_labels), (test_images, test_labels) = fashion_mnist.load_data()\n",
    "\n",
    "L = 2\n",
    "K = len(np.unique(train_labels))\n",
    "lr = 0.001\n",
    "nb_epochs = 50\n",
    "node_per_hidden_layer = 300\n",
    "nb_batches = 100\n",
    "W = []\n",
    "losses_test = []\n",
    "\n",
    "X_train = np.reshape(train_images, (train_images.shape[0], train_images.shape[1]*train_images.shape[2]))\n",
    "X_test = np.reshape(test_images, (test_images.shape[0], train_images.shape[1]*train_images.shape[2]))\n",
    "\n",
    "Y_train = np.zeros((train_labels.shape[0], K))\n",
    "Y_train[np.arange(Y_train.shape[0]), train_labels] = 1\n",
    "\n",
    "Y_test = np.zeros((test_labels.shape[0], K))\n",
    "Y_test[np.arange(Y_test.shape[0]), test_labels] = 1\n",
    "\n",
    "W.append(np.random.normal(0, 0.01, (X_train.shape[1]+1, node_per_hidden_layer)))\n",
    "for i in range(L-1):\n",
    "    W.append(np.random.normal(0, 0.01, (node_per_hidden_layer+1, node_per_hidden_layer)))\n",
    "W.append(np.random.normal(0, 0.01, (node_per_hidden_layer+1, K)))\n"
   ],
   "metadata": {
    "collapsed": false,
    "pycharm": {
     "name": "#%%\n",
     "is_executing": false
    }
   }
  },
  {
   "cell_type": "code",
   "execution_count": 33,
   "outputs": [],
   "source": [
    "\n",
    "def softmax(z):\n",
    "    exp = np.exp(z - z.max(1)[:,np.newaxis])\n",
    "    return np.array(exp / exp.sum(1)[:,np.newaxis])\n",
    "\n",
    "\n",
    "def softmax_derivative(z):\n",
    "    sm = softmax(z)\n",
    "    return sm * (1-sm)\n",
    "\n",
    "\n",
    "def ReLU(z):\n",
    "    return np.maximum(z, 0)\n",
    "\n",
    "\n",
    "def ReLU_derivative(z):\n",
    "    return (z >= 0).astype(int)\n",
    "\n",
    "\n",
    "def get_loss(y, y_pred):\n",
    "    return -np.sum(y * np.log(y_pred))"
   ],
   "metadata": {
    "collapsed": false,
    "pycharm": {
     "name": "#%%\n",
     "is_executing": false
    }
   }
  },
  {
   "cell_type": "code",
   "execution_count": 34,
   "outputs": [],
   "source": [
    "def fit():\n",
    "    minibatch_size = len(X_train) // nb_batches\n",
    "    for epoch in range(nb_epochs):\n",
    "        permutaion = list(np.random.permutation(X_train.shape[0]))\n",
    "        X_shuffle = X_train[permutaion]\n",
    "        Y_shuffle = Y_train[permutaion]\n",
    "        print(\"Epoch----------------\", epoch)\n",
    "        for batche in range(0, X_shuffle.shape[0], minibatch_size):\n",
    "            Z = [None] * (L + 2)\n",
    "            a = [None] * (L + 2)\n",
    "            delta = [None] * (L + 2)\n",
    "            X = X_train[batche:batche+minibatch_size]\n",
    "            Y = Y_shuffle[batche:batche+minibatch_size]\n",
    "\n",
    "            #forward propagation\n",
    "            a[0] = np.append(X, np.ones((minibatch_size, 1)), axis=1)\n",
    "            for i in range(L):\n",
    "                Z[i + 1] = a[i] @ W[i]\n",
    "                a[i + 1] = np.append(ReLU(Z[i+1]), np.ones((minibatch_size, 1), dtype=int), axis=1)\n",
    "\n",
    "            Z[-1] = a[L] @ W[L]\n",
    "            a[-1] = softmax(Z[-1])\n",
    "\n",
    "            #back propagation\n",
    "            delta[-1] = (Y - a[-1]) * softmax_derivative(Z[-1])\n",
    "            for i in range(L, 0, -1):\n",
    "                delta[i] = (delta[i+1] @ W[i].T)[:,:-1] * ReLU_derivative(Z[i])\n",
    "\n",
    "            for i in range(len(W)):\n",
    "                g = a[i].T @ delta[i+1] / minibatch_size\n",
    "                W[i] = W[i] + lr * g\n",
    "\n",
    "        get_loss_on_test()   "
   ],
   "metadata": {
    "collapsed": false,
    "pycharm": {
     "name": "#%%\n",
     "is_executing": false
    }
   }
  },
  {
   "cell_type": "code",
   "execution_count": 35,
   "outputs": [],
   "source": [
    "\n",
    "\n",
    "def get_loss_on_test():\n",
    "    Z_test = [None] * (L + 2)\n",
    "    a_test = [None] * (L + 2)\n",
    "\n",
    "    a_test[0] = np.append(X_test, np.ones((len(X_test), 1)), axis=1)\n",
    "    for i in range(L):\n",
    "        Z_test[i + 1] = a_test[i] @ W[i]\n",
    "        a_test[i + 1] = np.append(ReLU(Z_test[i+1]), np.ones((len(X_test), 1)), axis=1)\n",
    "\n",
    "    Z_test[-1] = a_test[L] @ W[L]\n",
    "    a_test[-1] = softmax(Z_test[-1])\n",
    "\n",
    "    losses_test.append(get_loss(Y_test, a_test[-1]))"
   ],
   "metadata": {
    "collapsed": false,
    "pycharm": {
     "name": "#%%\n",
     "is_executing": false
    }
   }
  },
  {
   "cell_type": "code",
   "execution_count": 36,
   "outputs": [],
   "source": [
    "def guess(index):\n",
    "    Z_test = [None] * (L + 2)\n",
    "    a_test = [None] * (L + 2)\n",
    "    a_test[0] = np.append(X_test[index], 1)[np.newaxis, :]\n",
    "    for i in range(L):\n",
    "        Z_test[i + 1] = a_test[i] @ W[i]\n",
    "        a_test[i + 1] = np.append(ReLU(Z_test[i+1]), 1)\n",
    "        \n",
    "    Z_test[-1] = a_test[L] @ W[L]\n",
    "    a_test[-1] = softmax(Z_test[-1][np.newaxis, :])\n",
    "    plt.imshow(test_images[index])\n",
    "    plt.show()\n",
    "    for j, k in enumerate(a_test[-1][0]):\n",
    "        print(j, k)\n",
    "    print(\"Correct: \", test_labels[index], \"Choisi: \", np.argmax(a_test[-1]))"
   ],
   "metadata": {
    "collapsed": false,
    "pycharm": {
     "name": "#%%\n",
     "is_executing": false
    }
   }
  },
  {
   "cell_type": "code",
   "execution_count": 37,
   "outputs": [
    {
     "name": "stdout",
     "text": [
      "Epoch---------------- 0\n",
      "Epoch---------------- 1\n",
      "Epoch---------------- 2\n",
      "Epoch---------------- 3\n",
      "Epoch---------------- 4\n",
      "Epoch---------------- 5\n",
      "Epoch---------------- 6\n",
      "Epoch---------------- 7\n",
      "Epoch---------------- 8\n",
      "Epoch---------------- 9\n",
      "Epoch---------------- 10\n",
      "Epoch---------------- 11\n",
      "Epoch---------------- 12\n",
      "Epoch---------------- 13\n",
      "Epoch---------------- 14\n",
      "Epoch---------------- 15\n",
      "Epoch---------------- 16\n",
      "Epoch---------------- 17\n",
      "Epoch---------------- 18\n",
      "Epoch---------------- 19\n",
      "Epoch---------------- 20\n",
      "Epoch---------------- 21\n",
      "Epoch---------------- 22\n",
      "Epoch---------------- 23\n",
      "Epoch---------------- 24\n",
      "Epoch---------------- 25\n",
      "Epoch---------------- 26\n",
      "Epoch---------------- 27\n",
      "Epoch---------------- 28\n",
      "Epoch---------------- 29\n",
      "Epoch---------------- 30\n",
      "Epoch---------------- 31\n",
      "Epoch---------------- 32\n",
      "Epoch---------------- 33\n",
      "Epoch---------------- 34\n",
      "Epoch---------------- 35\n",
      "Epoch---------------- 36\n",
      "Epoch---------------- 37\n",
      "Epoch---------------- 38\n",
      "Epoch---------------- 39\n",
      "Epoch---------------- 40\n",
      "Epoch---------------- 41\n",
      "Epoch---------------- 42\n",
      "Epoch---------------- 43\n",
      "Epoch---------------- 44\n",
      "Epoch---------------- 45\n",
      "Epoch---------------- 46\n",
      "Epoch---------------- 47\n",
      "Epoch---------------- 48\n",
      "Epoch---------------- 49\n"
     ],
     "output_type": "stream"
    },
    {
     "data": {
      "text/plain": "<Figure size 432x288 with 1 Axes>",
      "image/png": "[encoded data removed]"
     },
     "metadata": {
      "needs_background": "light"
     },
     "output_type": "display_data"
    }
   ],
   "source": [
    "losses_test.clear()\n",
    "fit()\n",
    "plt.plot(losses_test)\n",
    "plt.show()\n"
   ],
   "metadata": {
    "collapsed": false,
    "pycharm": {
     "name": "#%%\n",
     "is_executing": false
    }
   }
  },
  {
   "cell_type": "code",
   "execution_count": 38,
   "outputs": [
    {
     "data": {
      "text/plain": "<Figure size 432x288 with 1 Axes>",
      "image/png": "[encoded data removed]"
     },
     "metadata": {
      "needs_background": "light"
     },
     "output_type": "display_data"
    },
    {
     "name": "stdout",
     "text": [
      "0 0.0978201012854817\n1 0.0824304085246944\n2 0.09506330263730049\n3 0.09177603290502202\n4 0.11443267942835718\n5 0.10343517135907622\n6 0.10300848043641997\n7 0.10628695560918347\n8 0.1036540143094054\n9 0.1020928535050591\nCorrect:  1 Choisi:  4\n"
     ],
     "output_type": "stream"
    }
   ],
   "source": [
    "guess(5)\n",
    "\n"
   ],
   "metadata": {
    "collapsed": false,
    "pycharm": {
     "name": "#%%\n",
     "is_executing": false
    }
   }
  }
 ],
 "metadata": {
  "kernelspec": {
   "display_name": "Python 3",
   "language": "python",
   "name": "python3"
  },
  "language_info": {
   "codemirror_mode": {
    "name": "ipython",
    "version": 2
   },
   "file_extension": ".py",
   "mimetype": "text/x-python",
   "name": "python",
   "nbconvert_exporter": "python",
   "pygments_lexer": "ipython2",
   "version": "2.7.6"
  },
  "pycharm": {
   "stem_cell": {
    "cell_type": "raw",
    "source": [],
    "metadata": {
     "collapsed": false
    }
   }
  }
 },
 "nbformat": 4,
 "nbformat_minor": 0
}