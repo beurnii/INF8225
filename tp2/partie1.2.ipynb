{
 "cells": [
  {
   "cell_type": "code",
   "execution_count": 45,
   "outputs": [
    {
     "name": "stderr",
     "text": [
      "C:\\w\\1\\s\\tmp_conda_3.7_100118\\conda\\conda-bld\\pytorch_1579082551706\\work\\aten\\src\\ATen/native/IndexingUtils.h:20: UserWarning: indexing with dtype torch.uint8 is now deprecated, please use a dtype torch.bool instead.\n"
     ],
     "output_type": "stream"
    },
    {
     "data": {
      "text/plain": "<matplotlib.image.AxesImage at 0x23501084508>"
     },
     "metadata": {},
     "output_type": "execute_result",
     "execution_count": 45
    },
    {
     "data": {
      "text/plain": "<Figure size 432x288 with 1 Axes>",
      "image/png": "[encoded data removed]"
     },
     "metadata": {
      "needs_background": "light"
     },
     "output_type": "display_data"
    }
   ],
   "source": [
    "import numpy as np\n",
    "import matplotlib.pyplot as plt\n",
    "import torch\n",
    "from torch.autograd import Variable\n",
    "import torch.nn.functional as F\n",
    "import torchvision.transforms as transforms\n",
    "from torch import nn\n",
    "from torch import optim\n",
    "from torchvision import datasets\n",
    "\n",
    "\n",
    "train_data = datasets.FashionMNIST('../data', train=True, download=True,\n",
    "                   transform=transforms.Compose([\n",
    "                       transforms.ToTensor(),\n",
    "                       transforms.Normalize((0.1307,), (0.3081,))\n",
    "                   ]))\n",
    "\n",
    "valid_data = datasets.FashionMNIST('../data', train=True, download=True,\n",
    "                   transform=transforms.Compose([\n",
    "                       transforms.ToTensor(),\n",
    "                       transforms.Normalize((0.1307,), (0.3081,))\n",
    "                   ]))\n",
    "                   \n",
    "train_idx = np.random.choice(train_data.train_data.shape[0], 54000, replace=False)\n",
    "train_data.data = train_data.data[train_idx, :]\n",
    "train_data.targets = train_data.targets[torch.from_numpy(train_idx).type(torch.LongTensor)]\n",
    "mask = np.ones(60000)\n",
    "mask[train_idx] = 0\n",
    "valid_data.data = valid_data.data[torch.from_numpy(np.argwhere(mask)), :].squeeze()\n",
    "valid_data.targets = valid_data.targets[torch.from_numpy(mask).type(torch.ByteTensor)]\n",
    "batch_size = 100\n",
    "test_batch_size = 100\n",
    "\n",
    "train_loader = torch.utils.data.DataLoader(train_data,\n",
    "    batch_size=batch_size, shuffle=True)\n",
    "\n",
    "valid_loader = torch.utils.data.DataLoader(valid_data,\n",
    "    batch_size=batch_size, shuffle=True)\n",
    "\n",
    "test_loader = torch.utils.data.DataLoader(\n",
    "    datasets.FashionMNIST('../data', train=False, transform=transforms.Compose([\n",
    "                       transforms.ToTensor(),\n",
    "                       transforms.Normalize((0.1307,), (0.3081,))\n",
    "                   ])),\n",
    "    batch_size=test_batch_size, shuffle=True)\n",
    "plt.imshow(train_loader.dataset.train_data[1].numpy())"
   ],
   "metadata": {
    "collapsed": false,
    "pycharm": {
     "name": "#%%\n",
     "is_executing": false
    }
   }
  },
  {
   "cell_type": "code",
   "execution_count": 46,
   "outputs": [],
   "source": [
    "class FcNetwork(nn.Module):\n",
    "    def __init__(self):\n",
    "        super().__init__()\n",
    "        self.fc1 = nn.Linear(28*28, 300)\n",
    "        self.fc2 = nn.Linear(300, 300)\n",
    "        self.fc3 = nn.Linear(300, 10)\n",
    "\n",
    "    def forward(self, image):\n",
    "        batch_size = image.size()[0]\n",
    "        x = image.view(batch_size, -1)\n",
    "        x = F.relu(self.fc1(x))\n",
    "        x = F.relu(self.fc2(x))\n",
    "        x = F.log_softmax(self.fc3(x), dim=1)\n",
    "        return x"
   ],
   "metadata": {
    "collapsed": false,
    "pycharm": {
     "name": "#%%\n",
     "is_executing": false
    }
   }
  },
  {
   "cell_type": "code",
   "execution_count": 47,
   "outputs": [],
   "source": [
    "def train(model, train_loader, optimizer):\n",
    "    model.train()\n",
    "    for batch_idx, (data, target) in enumerate(train_loader):\n",
    "        data, target = Variable(data), Variable(target)\n",
    "        optimizer.zero_grad()\n",
    "        output = model(data)  # calls the forward function\n",
    "        loss = F.nll_loss(output, target)\n",
    "        loss.backward()\n",
    "        optimizer.step()\n",
    "    return model\n",
    "\n",
    "\n",
    "def valid(model, valid_loader):\n",
    "    model.eval()\n",
    "    valid_loss = 0\n",
    "    correct = 0\n",
    "    for data, target in valid_loader:\n",
    "        data, target = Variable(data, volatile=True), Variable(target)\n",
    "        output = model(data)\n",
    "        valid_loss += F.nll_loss(output, target, size_average=False).data # sum up batch loss\n",
    "        pred = output.data.max(1, keepdim=True)[1] # get the index of the max log-probability\n",
    "        correct += pred.eq(target.data.view_as(pred)).cpu().sum()\n",
    "\n",
    "    valid_loss /= len(valid_loader.dataset)\n",
    "    # print('\\n' + \"valid\" + ' set: Average loss: {:.4f}, Accuracy: {}/{} ({:.0f}%)\\n'.format(\n",
    "    #     valid_loss, correct, len(valid_loader.dataset),\n",
    "    #     100. * correct / len(valid_loader.dataset)))\n",
    "    return valid_loss, 1. * correct / len(valid_loader.dataset)\n",
    "\n",
    "\n",
    "def test(model, test_loader):\n",
    "    model.eval()\n",
    "    test_loss = 0\n",
    "    correct = 0\n",
    "    for data, target in test_loader:\n",
    "        data, target = Variable(data, volatile=True), Variable(target)\n",
    "        output = model(data)\n",
    "        test_loss += F.nll_loss(output, target, size_average=False).data # sum up batch loss\n",
    "        pred = output.data.max(1, keepdim=True)[1] # get the index of the max log-probability\n",
    "        correct += pred.eq(target.data.view_as(pred)).cpu().sum()\n",
    "\n",
    "    test_loss /= len(test_loader.dataset)\n",
    "    # print('\\n' + \"test\" + ' set: Average loss: {:.4f}, Accuracy: {}/{} ({:.0f}%)\\n'.format(\n",
    "    #     test_loss, correct, len(test_loader.dataset),\n",
    "    #     100. * correct / len(test_loader.dataset)))\n",
    "    return test_loss, 1. * correct / len(test_loader.dataset)\n",
    "\n",
    "def experiment(model, epochs=50, lr=0.001):\n",
    "    best_model = model\n",
    "    best_accuracy = 0\n",
    "    optimizer = optim.SGD(model.parameters(), lr=lr)\n",
    "    for epoch in range(1, epochs + 1):\n",
    "        model = train(model, train_loader, optimizer)\n",
    "        valid_loss, accuracy = valid(model, valid_loader)\n",
    "        losses.append(valid_loss)\n",
    "        accuracies.append(accuracy)\n",
    "        if accuracy > best_accuracy:\n",
    "            best_accuracy = accuracy\n",
    "            best_model = model\n",
    "    return best_model, best_accuracy\n"
   ],
   "metadata": {
    "collapsed": false,
    "pycharm": {
     "name": "#%%\n",
     "is_executing": false
    }
   }
  },
  {
   "cell_type": "code",
   "execution_count": 48,
   "outputs": [
    {
     "name": "stderr",
     "text": [
      "C:\\ProgramData\\Anaconda3\\lib\\site-packages\\ipykernel_launcher.py:4: UserWarning: volatile was removed and now has no effect. Use `with torch.no_grad():` instead.\n  after removing the cwd from sys.path.\n",
      "C:\\ProgramData\\Anaconda3\\lib\\site-packages\\ipykernel_launcher.py:19: UserWarning: volatile was removed and now has no effect. Use `with torch.no_grad():` instead.\n",
      "C:\\ProgramData\\Anaconda3\\lib\\site-packages\\ipykernel_launcher.py:38: UserWarning: volatile was removed and now has no effect. Use `with torch.no_grad():` instead.\n"
     ],
     "output_type": "stream"
    },
    {
     "name": "stdout",
     "text": [
      "\nvalid set: Average loss: 1.7044, Accuracy: 3701/6000 (62%)\n",
      "\n",
      "\nvalid set: Average loss: 1.2081, Accuracy: 3912/6000 (65%)\n",
      "\n",
      "\nvalid set: Average loss: 0.9711, Accuracy: 4033/6000 (67%)\n",
      "\n",
      "\nvalid set: Average loss: 0.8529, Accuracy: 4230/6000 (70%)\n",
      "\n",
      "\nvalid set: Average loss: 0.7817, Accuracy: 4403/6000 (73%)\n",
      "\n",
      "\nvalid set: Average loss: 0.7281, Accuracy: 4532/6000 (76%)\n",
      "\n",
      "\nvalid set: Average loss: 0.6870, Accuracy: 4641/6000 (77%)\n",
      "\n",
      "\nvalid set: Average loss: 0.6537, Accuracy: 4692/6000 (78%)\n",
      "\n",
      "\nvalid set: Average loss: 0.6243, Accuracy: 4775/6000 (80%)\n",
      "\n",
      "\nvalid set: Average loss: 0.6011, Accuracy: 4800/6000 (80%)\n",
      "\n",
      "\nvalid set: Average loss: 0.5811, Accuracy: 4823/6000 (80%)\n",
      "\n",
      "\nvalid set: Average loss: 0.5657, Accuracy: 4840/6000 (81%)\n",
      "\n",
      "\nvalid set: Average loss: 0.5507, Accuracy: 4876/6000 (81%)\n",
      "\n",
      "\nvalid set: Average loss: 0.5392, Accuracy: 4875/6000 (81%)\n",
      "\n",
      "\nvalid set: Average loss: 0.5287, Accuracy: 4905/6000 (82%)\n",
      "\n",
      "\nvalid set: Average loss: 0.5205, Accuracy: 4910/6000 (82%)\n",
      "\n",
      "\nvalid set: Average loss: 0.5146, Accuracy: 4911/6000 (82%)\n",
      "\n",
      "\nvalid set: Average loss: 0.5057, Accuracy: 4946/6000 (82%)\n",
      "\n",
      "\nvalid set: Average loss: 0.4997, Accuracy: 4958/6000 (83%)\n",
      "\n",
      "\nvalid set: Average loss: 0.4926, Accuracy: 4983/6000 (83%)\n",
      "\n",
      "\nvalid set: Average loss: 0.4869, Accuracy: 4985/6000 (83%)\n",
      "\n",
      "\nvalid set: Average loss: 0.4830, Accuracy: 5008/6000 (83%)\n",
      "\n",
      "\nvalid set: Average loss: 0.4791, Accuracy: 4995/6000 (83%)\n",
      "\n",
      "\nvalid set: Average loss: 0.4727, Accuracy: 5018/6000 (84%)\n",
      "\n",
      "\nvalid set: Average loss: 0.4692, Accuracy: 5028/6000 (84%)\n",
      "\n",
      "\nvalid set: Average loss: 0.4649, Accuracy: 5034/6000 (84%)\n",
      "\n",
      "\nvalid set: Average loss: 0.4612, Accuracy: 5039/6000 (84%)\n",
      "\n",
      "\nvalid set: Average loss: 0.4572, Accuracy: 5046/6000 (84%)\n",
      "\n",
      "\nvalid set: Average loss: 0.4544, Accuracy: 5052/6000 (84%)\n",
      "\n",
      "\nvalid set: Average loss: 0.4506, Accuracy: 5058/6000 (84%)\n",
      "\n",
      "\nvalid set: Average loss: 0.4481, Accuracy: 5066/6000 (84%)\n",
      "\n",
      "\nvalid set: Average loss: 0.4456, Accuracy: 5075/6000 (85%)\n",
      "\n",
      "\nvalid set: Average loss: 0.4437, Accuracy: 5062/6000 (84%)\n",
      "\n",
      "\nvalid set: Average loss: 0.4418, Accuracy: 5067/6000 (84%)\n",
      "\n",
      "\nvalid set: Average loss: 0.4390, Accuracy: 5082/6000 (85%)\n",
      "\n",
      "\nvalid set: Average loss: 0.4365, Accuracy: 5081/6000 (85%)\n",
      "\n",
      "\nvalid set: Average loss: 0.4332, Accuracy: 5092/6000 (85%)\n",
      "\n",
      "\nvalid set: Average loss: 0.4311, Accuracy: 5094/6000 (85%)\n",
      "\n",
      "\nvalid set: Average loss: 0.4289, Accuracy: 5093/6000 (85%)\n",
      "\n",
      "\nvalid set: Average loss: 0.4278, Accuracy: 5108/6000 (85%)\n",
      "\n",
      "\nvalid set: Average loss: 0.4254, Accuracy: 5104/6000 (85%)\n",
      "\n",
      "\nvalid set: Average loss: 0.4225, Accuracy: 5113/6000 (85%)\n",
      "\n",
      "\nvalid set: Average loss: 0.4232, Accuracy: 5117/6000 (85%)\n",
      "\n",
      "\nvalid set: Average loss: 0.4213, Accuracy: 5121/6000 (85%)\n",
      "\n",
      "\nvalid set: Average loss: 0.4209, Accuracy: 5119/6000 (85%)\n",
      "\n",
      "\nvalid set: Average loss: 0.4166, Accuracy: 5131/6000 (86%)\n",
      "\n",
      "\nvalid set: Average loss: 0.4136, Accuracy: 5144/6000 (86%)\n",
      "\n",
      "\nvalid set: Average loss: 0.4123, Accuracy: 5145/6000 (86%)\n",
      "\n",
      "\nvalid set: Average loss: 0.4118, Accuracy: 5149/6000 (86%)\n",
      "\n",
      "\nvalid set: Average loss: 0.4090, Accuracy: 5162/6000 (86%)\n",
      "\n",
      "\ntest set: Average loss: 0.4423, Accuracy: 8425/10000 (84%)\n",
      "\n"
     ],
     "output_type": "stream"
    }
   ],
   "source": [
    "losses = []\n",
    "accuracies = []\n",
    "best_model = None\n",
    "best_accuracy = 0\n",
    "\n",
    "for model in [FcNetwork()]:  # add your models in the list\n",
    "    model, accuracy = experiment(model)\n",
    "    if accuracy > best_accuracy:\n",
    "        best_accuracy = accuracy\n",
    "        best_model = model\n",
    "\n",
    "test(best_model, test_loader)"
   ],
   "metadata": {
    "collapsed": false,
    "pycharm": {
     "name": "#%%\n",
     "is_executing": false
    }
   }
  }
 ],
 "metadata": {
  "kernelspec": {
   "display_name": "Python 3",
   "language": "python",
   "name": "python3"
  },
  "language_info": {
   "codemirror_mode": {
    "name": "ipython",
    "version": 2
   },
   "file_extension": ".py",
   "mimetype": "text/x-python",
   "name": "python",
   "nbconvert_exporter": "python",
   "pygments_lexer": "ipython2",
   "version": "2.7.6"
  },
  "pycharm": {
   "stem_cell": {
    "cell_type": "raw",
    "source": [],
    "metadata": {
     "collapsed": false
    }
   }
  }
 },
 "nbformat": 4,
 "nbformat_minor": 0
}