{
 "cells": [
  {
   "cell_type": "code",
   "execution_count": 1,
   "outputs": [],
   "source": [
    "#############################################################################\n",
    "###Implementation manuelle du NN\n",
    "###\n",
    "#############################################################################\n",
    "\n",
    "\n",
    "from tensorflow import keras\n",
    "import numpy as np\n",
    "import matplotlib.pyplot as plt"
   ],
   "metadata": {
    "collapsed": false,
    "pycharm": {
     "name": "#%%\n",
     "is_executing": false
    }
   }
  },
  {
   "cell_type": "code",
   "execution_count": 2,
   "outputs": [],
   "source": [
    "class NN:\n",
    "    def __init__(self, train_data, valid_data, test_data, L=2, lr=0.001, batchSize=1000, epoch=150, hidden_layer_size = 300):\n",
    "        self.W = []\n",
    "        self.best_W = []\n",
    "        self.losses = []\n",
    "        self.best_accuracy = 0\n",
    "        self.accuracies = []\n",
    "        self.L = L\n",
    "        self.lr = lr\n",
    "        self.nb_epochs = epoch\n",
    "        self.nb_batches = batchSize\n",
    "        self.hidden_layer_size = hidden_layer_size\n",
    "        \n",
    "        self.K = len(np.unique(train_data.dataset.targets))\n",
    "\n",
    "        self.X_train = np.reshape(train_data.dataset.data, (train_data.dataset.data.shape[0], train_data.dataset.data.shape[1]*train_data.dataset.data.shape[2]))\n",
    "        self.X_valid = np.reshape(valid_data.dataset.data, (valid_data.dataset.data.shape[0], valid_data.dataset.data.shape[1]*valid_data.dataset.data.shape[2]))\n",
    "        self.X_test = np.reshape(test_data.dataset.data, (test_data.dataset.data.shape[0], test_data.dataset.data.shape[1]*test_data.dataset.data.shape[2]))\n",
    "        \n",
    "        self.Y_train = np.zeros((train_data.dataset.targets.shape[0], self.K))\n",
    "        self.Y_train[np.arange(self.Y_train.shape[0]), train_data.dataset.targets] = 1\n",
    "        \n",
    "        self.Y_valid = np.zeros((valid_data.dataset.targets.shape[0], self.K))\n",
    "        self.Y_valid[np.arange(self.Y_valid.shape[0]), valid_data.dataset.targets] = 1\n",
    "        \n",
    "        self.Y_test = np.zeros((test_data.dataset.targets.shape[0], self.K))\n",
    "        self.Y_test[np.arange(self.Y_test.shape[0]), test_data.dataset.targets] = 1\n",
    "        \n",
    "        \n",
    "        self.set_w()\n",
    "\n",
    "    \n",
    "    def set_w(self):\n",
    "        self.W.append(np.random.normal(0, 0.01, (self.X_train.shape[1]+1, self.hidden_layer_size)))\n",
    "        for i in range(self.L-1):\n",
    "            self.W.append(np.random.normal(0, 0.01, (self.hidden_layer_size+1, self.hidden_layer_size)))\n",
    "        self.W.append(np.random.normal(0, 0.01, (self.hidden_layer_size+1, self.K)))\n",
    "    \n",
    "    \n",
    "    def softmax(self, z):\n",
    "        exp = np.exp(z - z.max(1)[:,np.newaxis])\n",
    "        return np.array(exp / exp.sum(1)[:,np.newaxis])\n",
    "    \n",
    "    \n",
    "    def softmax_derivative(self, a):\n",
    "        return a * (1-a)\n",
    "    \n",
    "    \n",
    "    def ReLU(self, z):\n",
    "        return np.maximum(z, 0)\n",
    "    \n",
    "    \n",
    "    def ReLU_derivative(self, z):\n",
    "        return (z >= 0).astype(int)\n",
    "    \n",
    "    \n",
    "    def get_loss(self, y, y_pred):\n",
    "        return -np.sum(y * np.log(y_pred))\n",
    "    \n",
    "    \n",
    "    def get_accuracy(self, y, y_pred):\n",
    "        correct = 0\n",
    "        for i in range(len(y_pred)):\n",
    "            if np.argmax(y_pred[i]) == np.argmax(y[i]):\n",
    "                correct += 1\n",
    "        return correct / len(y)\n",
    "\n",
    "    def fit(self):\n",
    "        minibatch_size = len(self.X_train) // self.nb_batches\n",
    "        for epoch in range(self.nb_epochs):\n",
    "            permutaion = list(np.random.permutation(self.X_train.shape[0]))\n",
    "            X_shuffle = self.X_train[permutaion]\n",
    "            Y_shuffle = self.Y_train[permutaion]\n",
    "            for batche in range(0, X_shuffle.shape[0], minibatch_size):\n",
    "                Z = [None] * (self.L + 2)\n",
    "                a = [None] * (self.L + 2)\n",
    "                delta = [None] * (self.L + 2)\n",
    "                X = X_shuffle[batche:batche+minibatch_size]\n",
    "                Y = Y_shuffle[batche:batche+minibatch_size]\n",
    "    \n",
    "                #forward propagation\n",
    "                a[0] = np.append(X, np.ones((len(X), 1)), axis=1)\n",
    "                for i in range(self.L):\n",
    "                    Z[i + 1] = a[i] @ self.W[i]\n",
    "                    a[i + 1] = np.append(self.ReLU(Z[i+1]), np.ones((len(Z[i+1]), 1), dtype=int), axis=1)\n",
    "    \n",
    "                Z[-1] = a[self.L] @ self.W[self.L]\n",
    "                a[-1] = self.softmax(Z[-1])\n",
    "    \n",
    "                #back propagation\n",
    "                delta[-1] = (Y - a[-1]) * self.softmax_derivative(a[-1])\n",
    "                for i in range(self.L, 0, -1):\n",
    "                    delta[i] = (delta[i+1] @ self.W[i].T)[:,:-1] * self.ReLU_derivative(Z[i])\n",
    "    \n",
    "                for i in range(len(self.W)):\n",
    "                    g = a[i].T @ delta[i+1] / len(delta[i+1])\n",
    "                    self.W[i] = self.W[i] + self.lr * g\n",
    "    \n",
    "            self.valid()   \n",
    "\n",
    "    def valid(self):        \n",
    "        Z = [None] * (self.L + 2)\n",
    "        a = [None] * (self.L + 2)\n",
    "    \n",
    "        a[0] = np.append(self.X_valid, np.ones((len(self.X_valid), 1)), axis=1)\n",
    "        for i in range(self.L):\n",
    "            Z[i + 1] = a[i] @ self.W[i]\n",
    "            a[i + 1] = np.append(self.ReLU(Z[i+1]), np.ones((len(self.X_valid), 1)), axis=1)\n",
    "    \n",
    "        Z[-1] = a[self.L] @ self.W[self.L]\n",
    "        a[-1] = self.softmax(Z[-1])\n",
    "        loss = self.get_loss(self.Y_valid, a[-1])\n",
    "        accuracy = self.get_accuracy(self.Y_valid, a[-1])\n",
    "        if accuracy > self.best_accuracy:\n",
    "            self.best_accuracy = accuracy\n",
    "            self.best_w = self.W.copy()\n",
    "        self.accuracies.append(accuracy)\n",
    "        self.losses.append(loss)\n",
    "        \n",
    "        \n",
    "    def test(self):\n",
    "        Z = [None] * (self.L + 2)\n",
    "        a = [None] * (self.L + 2)\n",
    "    \n",
    "        a[0] = np.append(self.X_test, np.ones((len(self.X_test), 1)), axis=1)\n",
    "        for i in range(self.L):\n",
    "            Z[i + 1] = a[i] @ self.W[i]\n",
    "            a[i + 1] = np.append(self.ReLU(Z[i+1]), np.ones((len(self.X_test), 1)), axis=1)\n",
    "    \n",
    "        Z[-1] = a[self.L] @ self.W[self.L]\n",
    "        a[-1] = self.softmax(Z[-1])\n",
    "        loss = self.get_loss(self.Y_test, a[-1])\n",
    "        accuracy = self.get_accuracy(self.Y_test, a[-1])\n",
    "        return accuracy, loss\n",
    "\n"
   ],
   "metadata": {
    "collapsed": false,
    "pycharm": {
     "name": "#%%\n",
     "is_executing": false
    }
   }
  },
  {
   "cell_type": "code",
   "execution_count": 3,
   "outputs": [],
   "source": [
    "#############################################################################\n",
    "###Implementation pytorch du NN\n",
    "###\n",
    "#############################################################################"
   ],
   "metadata": {
    "collapsed": false,
    "pycharm": {
     "name": "#%%\n",
     "is_executing": false
    }
   }
  },
  {
   "cell_type": "code",
   "execution_count": 4,
   "outputs": [
    {
     "name": "stderr",
     "text": [
      "C:\\ProgramData\\Anaconda3\\lib\\site-packages\\torchvision\\datasets\\mnist.py:55: UserWarning: train_data has been renamed data\n  warnings.warn(\"train_data has been renamed data\")\n",
      "C:\\w\\1\\s\\tmp_conda_3.7_100118\\conda\\conda-bld\\pytorch_1579082551706\\work\\aten\\src\\ATen/native/IndexingUtils.h:20: UserWarning: indexing with dtype torch.uint8 is now deprecated, please use a dtype torch.bool instead.\n"
     ],
     "output_type": "stream"
    }
   ],
   "source": [
    "import torch\n",
    "from torch.autograd import Variable\n",
    "import torch.nn.functional as F\n",
    "import torchvision.transforms as transforms\n",
    "from torch import nn\n",
    "from torch import optim\n",
    "from torchvision import datasets\n",
    "\n",
    "\n",
    "train_data = datasets.FashionMNIST('../data', train=True, download=True,\n",
    "                   transform=transforms.Compose([\n",
    "                       transforms.ToTensor(),\n",
    "                       transforms.Normalize((0.1307,), (0.3081,))\n",
    "                   ]))\n",
    "\n",
    "valid_data = datasets.FashionMNIST('../data', train=True, download=True,\n",
    "                   transform=transforms.Compose([\n",
    "                       transforms.ToTensor(),\n",
    "                       transforms.Normalize((0.1307,), (0.3081,))\n",
    "                   ]))\n",
    "\n",
    "test_data = datasets.FashionMNIST('../data', train=False, download=True,\n",
    "                      transform=transforms.Compose([\n",
    "                       transforms.ToTensor(),\n",
    "                       transforms.Normalize((0.1307,), (0.3081,))\n",
    "                   ]))\n",
    "                   \n",
    "train_idx = np.random.choice(train_data.train_data.shape[0], 54000, replace=False)\n",
    "train_data.data = train_data.data[train_idx, :]\n",
    "train_data.targets = train_data.targets[torch.from_numpy(train_idx).type(torch.LongTensor)]\n",
    "mask = np.ones(60000)\n",
    "mask[train_idx] = 0\n",
    "valid_data.data = valid_data.data[torch.from_numpy(np.argwhere(mask)), :].squeeze()\n",
    "valid_data.targets = valid_data.targets[torch.from_numpy(mask).type(torch.ByteTensor)]\n",
    "\n",
    "batch_size = 1000\n",
    "\n",
    "train_loader = torch.utils.data.DataLoader(train_data,\n",
    "    batch_size=batch_size, shuffle=True)\n",
    "\n",
    "valid_loader = torch.utils.data.DataLoader(valid_data,\n",
    "    batch_size=batch_size, shuffle=True)\n",
    "\n",
    "test_loader = torch.utils.data.DataLoader(test_data,\n",
    "    batch_size=batch_size, shuffle=True)"
   ],
   "metadata": {
    "collapsed": false,
    "pycharm": {
     "name": "#%%\n",
     "is_executing": false
    }
   }
  },
  {
   "cell_type": "code",
   "execution_count": 5,
   "outputs": [],
   "source": [
    "class FcNetwork(nn.Module):\n",
    "    def __init__(self):\n",
    "        super().__init__()\n",
    "        self.fc1 = nn.Linear(28*28, 300)\n",
    "        self.fc2 = nn.Linear(300, 300)\n",
    "        self.fc3 = nn.Linear(300, 10)\n",
    "\n",
    "    def forward(self, image):\n",
    "        batch_size = image.size()[0]\n",
    "        x = image.view(batch_size, -1)\n",
    "        x = F.relu(self.fc1(x))\n",
    "        x = F.relu(self.fc2(x))\n",
    "        x = F.log_softmax(self.fc3(x), dim=1)\n",
    "        return x"
   ],
   "metadata": {
    "collapsed": false,
    "pycharm": {
     "name": "#%%\n",
     "is_executing": false
    }
   }
  },
  {
   "cell_type": "code",
   "execution_count": 6,
   "outputs": [],
   "source": [
    "def train(model, train_loader, optimizer):\n",
    "    model.train()\n",
    "    for batch_idx, (data, target) in enumerate(train_loader):\n",
    "        data, target = Variable(data), Variable(target)\n",
    "        optimizer.zero_grad()\n",
    "        output = model(data)  # calls the forward function\n",
    "        loss = F.nll_loss(output, target)\n",
    "        loss.backward()\n",
    "        optimizer.step()\n",
    "    return model\n",
    "\n",
    "\n",
    "def valid(model, valid_loader):\n",
    "    model.eval()\n",
    "    valid_loss = 0\n",
    "    correct = 0\n",
    "    for data, target in valid_loader:\n",
    "        data, target = Variable(data, volatile=True), Variable(target)\n",
    "        output = model(data)\n",
    "        valid_loss += F.nll_loss(output, target, size_average=False).data # sum up batch loss\n",
    "        pred = output.data.max(1, keepdim=True)[1] # get the index of the max log-probability\n",
    "        correct += pred.eq(target.data.view_as(pred)).cpu().sum()\n",
    "\n",
    "    # valid_loss /= len(valid_loader.dataset)\n",
    "    return valid_loss, 1. * correct / len(valid_loader.dataset)\n",
    "\n",
    "\n",
    "def test(model, test_loader):\n",
    "    model.eval()\n",
    "    test_loss = 0\n",
    "    correct = 0\n",
    "    for data, target in test_loader:\n",
    "        data, target = Variable(data, volatile=True), Variable(target)\n",
    "        output = model(data)\n",
    "        test_loss += F.nll_loss(output, target, size_average=False).data # sum up batch loss\n",
    "        pred = output.data.max(1, keepdim=True)[1] # get the index of the max log-probability\n",
    "        correct += pred.eq(target.data.view_as(pred)).cpu().sum()\n",
    "\n",
    "    print('\\n' + \"Pytorch test\" + ' set: Total loss: {:.4f}, Accuracy: {:.0f}%\\n'.format(\n",
    "        test_loss, 100. * correct / len(test_loader.dataset)))\n",
    "    return test_loss, 1. * correct / len(test_loader.dataset)\n",
    "\n",
    "def fit(model, epochs=150, lr=0.001):\n",
    "    best_model = model\n",
    "    best_accuracy = 0\n",
    "    optimizer = optim.SGD(model.parameters(), lr=lr)\n",
    "    for epoch in range(1, epochs + 1):\n",
    "        model = train(model, train_loader, optimizer)\n",
    "        valid_loss, accuracy = valid(model, valid_loader)\n",
    "        losses.append(valid_loss)\n",
    "        accuracies.append(accuracy)\n",
    "        if accuracy > best_accuracy:\n",
    "            best_accuracy = accuracy\n",
    "            best_model = model\n",
    "    return best_model, best_accuracy\n"
   ],
   "metadata": {
    "collapsed": false,
    "pycharm": {
     "name": "#%%\n",
     "is_executing": false
    }
   }
  },
  {
   "cell_type": "code",
   "execution_count": 7,
   "outputs": [
    {
     "name": "stdout",
     "text": [
      "Algo imp",
      "\n",
      "START TRANING",
      "\n",
      "END TRAINING",
      "\n"
     ],
     "output_type": "stream"
    }
   ],
   "source": [
    "#############################################################################\n",
    "###Execution implementation manuelle\n",
    "###\n",
    "#############################################################################\n",
    "fashion_mnist = keras.datasets.fashion_mnist\n",
    "train_data, test_data = fashion_mnist.load_data()\n",
    "\n",
    "customnn = NN(train_loader, valid_loader, test_loader)\n",
    "print(\"Algo imp\")\n",
    "print(\"START TRANING\")\n",
    "customnn.fit()\n",
    "print(\"END TRAINING\")"
   ],
   "metadata": {
    "collapsed": false,
    "pycharm": {
     "name": "#%%\n",
     "is_executing": false
    }
   }
  },
  {
   "cell_type": "code",
   "execution_count": 8,
   "outputs": [
    {
     "name": "stdout",
     "text": [
      "Algo pytorch",
      "\n",
      "START TRAINIG",
      "\n",
      "END TRAINING",
      "\n"
     ],
     "output_type": "stream"
    },
    {
     "name": "stderr",
     "text": [
      "C:\\ProgramData\\Anaconda3\\lib\\site-packages\\ipykernel_launcher.py:18: UserWarning: volatile was removed and now has no effect. Use `with torch.no_grad():` instead.\n",
      "C:\\ProgramData\\Anaconda3\\lib\\site-packages\\torch\\nn\\_reduction.py:43: UserWarning: size_average and reduce args will be deprecated, please use reduction='sum' instead.\n  warnings.warn(warning.format(ret))\n"
     ],
     "output_type": "stream"
    }
   ],
   "source": [
    "#############################################################################\n",
    "###Execution implementation pytorch\n",
    "###\n",
    "#############################################################################\n",
    "\n",
    "losses = []\n",
    "accuracies = []\n",
    "best_model = None\n",
    "best_accuracy = 0\n",
    "print(\"Algo pytorch\")\n",
    "print(\"START TRAINIG\")\n",
    "model, accuracy = fit(FcNetwork())\n",
    "print(\"END TRAINING\")\n"
   ],
   "metadata": {
    "collapsed": false,
    "pycharm": {
     "name": "#%%\n",
     "is_executing": false
    }
   }
  },
  {
   "cell_type": "code",
   "execution_count": 9,
   "outputs": [
    {
     "data": {
      "text/plain": "<Figure size 432x288 with 1 Axes>",
      "image/png": "[encoded data removed]"
     },
     "metadata": {
      "needs_background": "light"
     },
     "output_type": "display_data"
    },
    {
     "data": {
      "text/plain": "<Figure size 432x288 with 1 Axes>",
      "image/png": "[encoded data removed]"
     },
     "metadata": {
      "needs_background": "light"
     },
     "output_type": "display_data"
    }
   ],
   "source": [
    "plt.plot(losses, label='Pytorch')\n",
    "plt.plot(customnn.losses, label=\"Numpy\")\n",
    "plt.ylabel(\"Losses\")\n",
    "plt.xlabel(\"Epoch\")\n",
    "plt.legend()\n",
    "plt.show()\n",
    "\n",
    "plt.plot(accuracies, label=\"Pytorch\")\n",
    "plt.plot(customnn.accuracies, label=\"Numpy\")\n",
    "plt.ylabel(\"Accuracy\")\n",
    "plt.xlabel(\"Epoch\")\n",
    "plt.legend()\n",
    "plt.show()\n"
   ],
   "metadata": {
    "collapsed": false,
    "pycharm": {
     "name": "#%%\n",
     "is_executing": false
    }
   }
  },
  {
   "cell_type": "code",
   "execution_count": 10,
   "outputs": [
    {
     "name": "stderr",
     "text": [
      "C:\\ProgramData\\Anaconda3\\lib\\site-packages\\ipykernel_launcher.py:33: UserWarning: volatile was removed and now has no effect. Use `with torch.no_grad():` instead.\n"
     ],
     "output_type": "stream"
    },
    {
     "name": "stdout",
     "text": [
      "\nPytorch test set: Total loss: 5564.8408, Accuracy: 80%\n",
      "\n",
      "\nNumpy test set: Total loss: 4690.0995, Accuracy: 88%\n",
      "\n"
     ],
     "output_type": "stream"
    }
   ],
   "source": [
    "test(model, test_loader)\n",
    "\n",
    "result = customnn.test()\n",
    "print('\\n' + \"Numpy test\" + ' set: Total loss: {:.4f}, Accuracy: {:.0f}%\\n'.format(\n",
    "        result[1], result[0]*100))"
   ],
   "metadata": {
    "collapsed": false,
    "pycharm": {
     "name": "#%%\n",
     "is_executing": false
    }
   }
  }
 ],
 "metadata": {
  "kernelspec": {
   "display_name": "Python 3",
   "language": "python",
   "name": "python3"
  },
  "language_info": {
   "codemirror_mode": {
    "name": "ipython",
    "version": 2
   },
   "file_extension": ".py",
   "mimetype": "text/x-python",
   "name": "python",
   "nbconvert_exporter": "python",
   "pygments_lexer": "ipython2",
   "version": "2.7.6"
  },
  "pycharm": {
   "stem_cell": {
    "cell_type": "raw",
    "source": [],
    "metadata": {
     "collapsed": false
    }
   }
  }
 },
 "nbformat": 4,
 "nbformat_minor": 0
}