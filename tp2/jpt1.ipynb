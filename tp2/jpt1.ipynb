{
 "cells": [
  {
   "cell_type": "code",
   "execution_count": 23,
   "outputs": [],
   "source": [
    "from tensorflow import keras\n",
    "import numpy as np\n",
    "import matplotlib.pyplot as plt\n",
    "\n",
    "fashion_mnist = keras.datasets.fashion_mnist\n",
    "(train_images, train_labels), (test_images, test_labels) = fashion_mnist.load_data()\n",
    "\n",
    "L = 2\n",
    "K = len(np.unique(train_labels))\n",
    "lr = 0.01\n",
    "nb_epochs = 500\n",
    "node_per_hidden_layer = 2\n",
    "nb_batches = 100\n",
    "W = []\n",
    "losses_test = []\n",
    "\n",
    "X_train = np.reshape(train_images, (train_images.shape[0], train_images.shape[1]*train_images.shape[2]))\n",
    "X_test = np.reshape(test_images, (test_images.shape[0], train_images.shape[1]*train_images.shape[2]))\n",
    "\n",
    "Y_train = np.zeros((train_labels.shape[0], K))\n",
    "Y_train[np.arange(Y_train.shape[0]), train_labels] = 1\n",
    "\n",
    "Y_test = np.zeros((test_labels.shape[0], K))\n",
    "Y_test[np.arange(Y_test.shape[0]), test_labels] = 1\n",
    "\n",
    "X_train = np.array([[2,3],[4,5],[1,5],[0,1]])\n",
    "Y_train = np.array([[0,1],[1,0],[0,1],[1,0]])\n",
    "\n",
    "W.append(np.array([[0.1,0.3,0.4],[0.2,0.1,0.4]]).T)\n",
    "for i in range(L-1):\n",
    "    W.append(np.array([[0.1,0.3,0.4],[0.2,0.1,0.4]]).T)\n",
    "W.append(np.array([[0.1,0.3,0.4],[0.2,0.1,0.4]]).T)\n"
   ],
   "metadata": {
    "collapsed": false,
    "pycharm": {
     "name": "#%%\n",
     "is_executing": false
    }
   }
  },
  {
   "cell_type": "code",
   "execution_count": 24,
   "outputs": [],
   "source": [
    "\n",
    "def softmax(z):\n",
    "    exp = np.exp(z - z.max(1)[:,np.newaxis])\n",
    "    return np.array(exp / exp.sum(1)[:,np.newaxis])\n",
    "\n",
    "\n",
    "def softmax_derivative(z):\n",
    "    sm = softmax(z)\n",
    "    return sm * (1-sm)\n",
    "\n",
    "\n",
    "def ReLU(z):\n",
    "    return np.maximum(z, 0)\n",
    "\n",
    "\n",
    "def ReLU_derivative(z):\n",
    "    return (z >= 0).astype(int)\n",
    "\n",
    "\n",
    "def get_loss(y, y_pred):\n",
    "    return -np.sum(y * np.log(y_pred))"
   ],
   "metadata": {
    "collapsed": false,
    "pycharm": {
     "name": "#%%\n",
     "is_executing": false
    }
   }
  },
  {
   "cell_type": "code",
   "execution_count": 25,
   "outputs": [],
   "source": [
    "def fit():\n",
    "    cc = 0\n",
    "    minibatch_size = len(X_train) // nb_batches\n",
    "    for epoch in range(nb_epochs):\n",
    "        permutaion = list(np.random.permutation(X_train.shape[0]))\n",
    "        X_shuffle = X_train[permutaion]\n",
    "        Y_shuffle = Y_train[permutaion]\n",
    "        print(\"Epoch----------------\", epoch)\n",
    "        for batche in range(0, 5):\n",
    "            cc += 1\n",
    "            Z = [None] * (L + 2)\n",
    "            a = [None] * (L + 2)\n",
    "            delta = [None] * (L + 2)\n",
    "            X = X_train\n",
    "            Y = Y_train\n",
    "\n",
    "            #forward propagation\n",
    "            a[0] = np.append(X, np.ones((len(X), 1)), axis=1)\n",
    "            for i in range(L):\n",
    "                Z[i + 1] = a[i] @ W[i]\n",
    "                a[i + 1] = np.append(ReLU(Z[i+1]), np.ones((len(X), 1), dtype=int), axis=1)\n",
    "\n",
    "            Z[-1] = a[L] @ W[L]\n",
    "            a[-1] = softmax(Z[-1])\n",
    "\n",
    "            #back propagation\n",
    "            delta[-1] = (Y - a[-1]) * softmax_derivative(Z[-1])\n",
    "            for i in range(L, 0, -1):\n",
    "                delta[i] = (delta[i+1] @ W[i].T)[:,:-1] * ReLU_derivative(Z[i])\n",
    "\n",
    "            for i in range(len(W)):\n",
    "                g = a[i].T @ delta[i+1] / len(X)\n",
    "                W[i] = W[i] + lr * g\n",
    "\n",
    "        get_loss_on_test()   "
   ],
   "metadata": {
    "collapsed": false,
    "pycharm": {
     "name": "#%%\n",
     "is_executing": false
    }
   }
  },
  {
   "cell_type": "code",
   "execution_count": 26,
   "outputs": [],
   "source": [
    "\n",
    "\n",
    "def get_loss_on_test():\n",
    "    Z_test = [None] * (L + 2)\n",
    "    a_test = [None] * (L + 2)\n",
    "\n",
    "    a_test[0] = np.append(X_train, np.ones((len(X_train), 1)), axis=1)\n",
    "    for i in range(L):\n",
    "        Z_test[i + 1] = a_test[i] @ W[i]\n",
    "        a_test[i + 1] = np.append(ReLU(Z_test[i+1]), np.ones((len(X_train), 1)), axis=1)\n",
    "\n",
    "    Z_test[-1] = a_test[L] @ W[L]\n",
    "    a_test[-1] = softmax(Z_test[-1])\n",
    "\n",
    "    losses_test.append(get_loss(Y_train, a_test[-1]))"
   ],
   "metadata": {
    "collapsed": false,
    "pycharm": {
     "name": "#%%\n",
     "is_executing": false
    }
   }
  },
  {
   "cell_type": "code",
   "execution_count": 27,
   "outputs": [],
   "source": [
    "def guess(index):\n",
    "    Z_test = [None] * (L + 2)\n",
    "    a_test = [None] * (L + 2)\n",
    "    a_test[0] = np.append(X_test[index], 1)[np.newaxis, :]\n",
    "    for i in range(L):\n",
    "        Z_test[i + 1] = a_test[i] @ W[i]\n",
    "        a_test[i + 1] = np.append(ReLU(Z_test[i+1]), 1)\n",
    "        \n",
    "    Z_test[-1] = a_test[L] @ W[L]\n",
    "    a_test[-1] = softmax(Z_test[-1][np.newaxis, :])\n",
    "    plt.imshow(test_images[index])\n",
    "    plt.show()\n",
    "    for j, k in enumerate(a_test[-1][0]):\n",
    "        print(j, k)\n",
    "    print(\"Correct: \", test_labels[index], \"Choisi: \", np.argmax(a_test[-1]))"
   ],
   "metadata": {
    "collapsed": false,
    "pycharm": {
     "name": "#%%\n",
     "is_executing": false
    }
   }
  },
  {
   "cell_type": "code",
   "execution_count": 28,
   "outputs": [
    {
     "name": "stdout",
     "text": [
      "Epoch---------------- 0\nEpoch---------------- 1\nEpoch---------------- 2\nEpoch---------------- 3\nEpoch---------------- 4\nEpoch---------------- 5\nEpoch---------------- 6\nEpoch---------------- 7\nEpoch---------------- 8\nEpoch---------------- 9\nEpoch---------------- 10\nEpoch---------------- 11\nEpoch---------------- 12\nEpoch---------------- 13\nEpoch---------------- 14\nEpoch---------------- 15\nEpoch---------------- 16\nEpoch---------------- 17\nEpoch---------------- 18\nEpoch---------------- 19\nEpoch---------------- 20\nEpoch---------------- 21\nEpoch---------------- 22\nEpoch---------------- 23\nEpoch---------------- 24\nEpoch---------------- 25\nEpoch---------------- 26\nEpoch---------------- 27\nEpoch---------------- 28\nEpoch---------------- 29\nEpoch---------------- 30\nEpoch---------------- 31\nEpoch---------------- 32\nEpoch---------------- 33\nEpoch---------------- 34\nEpoch---------------- 35\nEpoch---------------- 36\nEpoch---------------- 37\nEpoch---------------- 38\nEpoch---------------- 39\nEpoch---------------- 40\nEpoch---------------- 41\nEpoch---------------- 42\nEpoch---------------- 43\nEpoch---------------- 44\nEpoch---------------- 45\nEpoch---------------- 46\nEpoch---------------- 47\nEpoch---------------- 48\nEpoch---------------- 49\nEpoch---------------- 50\nEpoch---------------- 51\nEpoch---------------- 52\nEpoch---------------- 53\nEpoch---------------- 54\nEpoch---------------- 55\nEpoch---------------- 56\nEpoch---------------- 57\nEpoch---------------- 58\nEpoch---------------- 59\nEpoch---------------- 60\nEpoch---------------- 61\nEpoch---------------- 62\nEpoch---------------- 63\nEpoch---------------- 64\nEpoch---------------- 65\nEpoch---------------- 66\nEpoch---------------- 67\nEpoch---------------- 68\nEpoch---------------- 69\nEpoch---------------- 70\nEpoch---------------- 71\nEpoch---------------- 72\nEpoch---------------- 73\nEpoch---------------- 74\nEpoch---------------- 75\nEpoch---------------- 76\nEpoch---------------- 77\nEpoch---------------- 78\nEpoch---------------- 79\nEpoch---------------- 80\nEpoch---------------- 81\nEpoch---------------- 82\nEpoch---------------- 83\nEpoch---------------- 84\nEpoch---------------- 85\nEpoch---------------- 86\nEpoch---------------- 87\nEpoch---------------- 88\nEpoch---------------- 89\nEpoch---------------- 90\nEpoch---------------- 91\nEpoch---------------- 92\nEpoch---------------- 93\nEpoch---------------- 94\nEpoch---------------- 95\nEpoch---------------- 96\nEpoch---------------- 97\nEpoch---------------- 98\nEpoch---------------- 99\nEpoch---------------- 100\nEpoch---------------- 101\nEpoch---------------- 102\nEpoch---------------- 103\nEpoch---------------- 104\nEpoch---------------- 105\nEpoch---------------- 106\nEpoch---------------- 107\nEpoch---------------- 108\nEpoch---------------- 109\nEpoch---------------- 110\nEpoch---------------- 111\nEpoch---------------- 112\nEpoch---------------- 113\nEpoch---------------- 114\nEpoch---------------- 115\nEpoch---------------- 116\nEpoch---------------- 117\nEpoch---------------- 118\nEpoch---------------- 119\nEpoch---------------- 120\nEpoch---------------- 121\nEpoch---------------- 122\nEpoch---------------- 123\nEpoch---------------- 124\nEpoch---------------- 125\nEpoch---------------- 126\nEpoch---------------- 127\nEpoch---------------- 128\nEpoch---------------- 129\nEpoch---------------- 130\nEpoch---------------- 131\nEpoch---------------- 132\nEpoch---------------- 133\nEpoch---------------- 134\nEpoch---------------- 135\nEpoch---------------- 136\nEpoch---------------- 137\nEpoch---------------- 138\nEpoch---------------- 139\nEpoch---------------- 140\nEpoch---------------- 141\nEpoch---------------- 142\nEpoch---------------- 143\nEpoch---------------- 144\nEpoch---------------- 145\nEpoch---------------- 146\nEpoch---------------- 147\nEpoch---------------- 148\nEpoch---------------- 149\nEpoch---------------- 150\nEpoch---------------- 151\nEpoch---------------- 152\nEpoch---------------- 153\nEpoch---------------- 154\nEpoch---------------- 155\nEpoch---------------- 156\nEpoch---------------- 157\nEpoch---------------- 158\nEpoch---------------- 159\nEpoch---------------- 160\nEpoch---------------- 161\nEpoch---------------- 162\nEpoch---------------- 163\nEpoch---------------- 164\nEpoch---------------- 165\nEpoch---------------- 166\nEpoch---------------- 167\nEpoch---------------- 168\nEpoch---------------- 169\nEpoch---------------- 170\nEpoch---------------- 171\nEpoch---------------- 172\nEpoch---------------- 173\nEpoch---------------- 174\nEpoch---------------- 175\nEpoch---------------- 176\nEpoch---------------- 177\nEpoch---------------- 178\nEpoch---------------- 179\nEpoch---------------- 180\nEpoch---------------- 181\nEpoch---------------- 182\nEpoch---------------- 183\nEpoch---------------- 184\nEpoch---------------- 185\nEpoch---------------- 186\nEpoch---------------- 187\nEpoch---------------- 188\nEpoch---------------- 189\nEpoch---------------- 190\nEpoch---------------- 191\nEpoch---------------- 192\nEpoch---------------- 193\nEpoch---------------- 194\nEpoch---------------- 195\nEpoch---------------- 196\nEpoch---------------- 197\n",
      "Epoch---------------- 198\nEpoch---------------- 199\nEpoch---------------- 200\nEpoch---------------- 201\nEpoch---------------- 202\nEpoch---------------- 203\nEpoch---------------- 204\nEpoch---------------- 205\nEpoch---------------- 206\nEpoch---------------- 207\nEpoch---------------- 208\nEpoch---------------- 209\nEpoch---------------- 210\nEpoch---------------- 211\nEpoch---------------- 212\nEpoch---------------- 213\nEpoch---------------- 214\nEpoch---------------- 215\nEpoch---------------- 216\nEpoch---------------- 217\nEpoch---------------- 218\nEpoch---------------- 219\nEpoch---------------- 220\nEpoch---------------- 221\nEpoch---------------- 222\nEpoch---------------- 223\nEpoch---------------- 224\nEpoch---------------- 225\nEpoch---------------- 226\nEpoch---------------- 227\nEpoch---------------- 228\nEpoch---------------- 229\nEpoch---------------- 230\nEpoch---------------- 231\nEpoch---------------- 232\nEpoch---------------- 233\nEpoch---------------- 234\nEpoch---------------- 235\nEpoch---------------- 236\nEpoch---------------- 237\nEpoch---------------- 238\nEpoch---------------- 239\nEpoch---------------- 240\nEpoch---------------- 241\nEpoch---------------- 242\nEpoch---------------- 243\nEpoch---------------- 244\nEpoch---------------- 245\nEpoch---------------- 246\nEpoch---------------- 247\nEpoch---------------- 248\nEpoch---------------- 249\nEpoch---------------- 250\nEpoch---------------- 251\nEpoch---------------- 252\nEpoch---------------- 253\nEpoch---------------- 254\nEpoch---------------- 255\nEpoch---------------- 256\nEpoch---------------- 257\nEpoch---------------- 258\nEpoch---------------- 259\nEpoch---------------- 260\nEpoch---------------- 261\nEpoch---------------- 262\nEpoch---------------- 263\nEpoch---------------- 264\nEpoch---------------- 265\nEpoch---------------- 266\nEpoch---------------- 267\nEpoch---------------- 268\nEpoch---------------- 269\nEpoch---------------- 270\nEpoch---------------- 271\nEpoch---------------- 272\nEpoch---------------- 273\nEpoch---------------- 274\nEpoch---------------- 275\nEpoch---------------- 276\nEpoch---------------- 277\nEpoch---------------- 278\nEpoch---------------- 279\nEpoch---------------- 280\nEpoch---------------- 281\nEpoch---------------- 282\nEpoch---------------- 283\nEpoch---------------- 284\nEpoch---------------- 285\nEpoch---------------- 286\nEpoch---------------- 287\nEpoch---------------- 288\nEpoch---------------- 289\nEpoch---------------- 290\nEpoch---------------- 291\nEpoch---------------- 292\nEpoch---------------- 293\nEpoch---------------- 294\nEpoch---------------- 295\nEpoch---------------- 296\nEpoch---------------- 297\nEpoch---------------- 298\nEpoch---------------- 299\nEpoch---------------- 300\nEpoch---------------- 301\nEpoch---------------- 302\nEpoch---------------- 303\nEpoch---------------- 304\nEpoch---------------- 305\nEpoch---------------- 306\nEpoch---------------- 307\nEpoch---------------- 308\nEpoch---------------- 309\nEpoch---------------- 310\nEpoch---------------- 311\nEpoch---------------- 312\nEpoch---------------- 313\nEpoch---------------- 314\nEpoch---------------- 315\nEpoch---------------- 316\nEpoch---------------- 317\nEpoch---------------- 318\nEpoch---------------- 319\nEpoch---------------- 320\nEpoch---------------- 321\nEpoch---------------- 322\nEpoch---------------- 323\nEpoch---------------- 324\nEpoch---------------- 325\nEpoch---------------- 326\nEpoch---------------- 327\nEpoch---------------- 328\nEpoch---------------- 329\nEpoch---------------- 330\nEpoch---------------- 331\nEpoch---------------- 332\nEpoch---------------- 333\nEpoch---------------- 334\nEpoch---------------- 335\nEpoch---------------- 336\nEpoch---------------- 337\nEpoch---------------- 338\nEpoch---------------- 339\n",
      "Epoch---------------- 340\nEpoch---------------- 341\nEpoch---------------- 342\nEpoch---------------- 343\nEpoch---------------- 344\nEpoch---------------- 345\nEpoch---------------- 346\nEpoch---------------- 347\nEpoch---------------- 348\nEpoch---------------- 349\nEpoch---------------- 350\nEpoch---------------- 351\nEpoch---------------- 352\nEpoch---------------- 353\nEpoch---------------- 354\nEpoch---------------- 355\nEpoch---------------- 356\nEpoch---------------- 357\nEpoch---------------- 358\nEpoch---------------- 359\nEpoch---------------- 360\nEpoch---------------- 361\nEpoch---------------- 362\nEpoch---------------- 363\nEpoch---------------- 364\nEpoch---------------- 365\nEpoch---------------- 366\nEpoch---------------- 367\nEpoch---------------- 368\nEpoch---------------- 369\nEpoch---------------- 370\nEpoch---------------- 371\nEpoch---------------- 372\nEpoch---------------- 373\nEpoch---------------- 374\nEpoch---------------- 375\nEpoch---------------- 376\nEpoch---------------- 377\nEpoch---------------- 378\nEpoch---------------- 379\nEpoch---------------- 380\nEpoch---------------- 381\nEpoch---------------- 382\nEpoch---------------- 383\nEpoch---------------- 384\nEpoch---------------- 385\nEpoch---------------- 386\nEpoch---------------- 387\nEpoch---------------- 388\nEpoch---------------- 389\nEpoch---------------- 390\nEpoch---------------- 391\nEpoch---------------- 392\nEpoch---------------- 393\nEpoch---------------- 394\nEpoch---------------- 395\nEpoch---------------- 396\nEpoch---------------- 397\nEpoch---------------- 398\nEpoch---------------- 399\nEpoch---------------- 400\nEpoch---------------- 401\nEpoch---------------- 402\nEpoch---------------- 403\nEpoch---------------- 404\nEpoch---------------- 405\nEpoch---------------- 406\nEpoch---------------- 407\nEpoch---------------- 408\nEpoch---------------- 409\nEpoch---------------- 410\nEpoch---------------- 411\nEpoch---------------- 412\nEpoch---------------- 413\nEpoch---------------- 414\nEpoch---------------- 415\nEpoch---------------- 416\nEpoch---------------- 417\nEpoch---------------- 418\nEpoch---------------- 419\nEpoch---------------- 420\nEpoch---------------- 421\nEpoch---------------- 422\nEpoch---------------- 423\nEpoch---------------- 424\nEpoch---------------- 425\nEpoch---------------- 426\nEpoch---------------- 427\nEpoch---------------- 428\nEpoch---------------- 429\nEpoch---------------- 430\nEpoch---------------- 431\nEpoch---------------- 432\nEpoch---------------- 433\nEpoch---------------- 434\nEpoch---------------- 435\nEpoch---------------- 436\nEpoch---------------- 437\nEpoch---------------- 438\nEpoch---------------- 439\nEpoch---------------- 440\nEpoch---------------- 441\nEpoch---------------- 442\nEpoch---------------- 443\nEpoch---------------- 444\nEpoch---------------- 445\nEpoch---------------- 446\nEpoch---------------- 447\nEpoch---------------- 448\nEpoch---------------- 449\nEpoch---------------- 450\nEpoch---------------- 451\nEpoch---------------- 452\nEpoch---------------- 453\nEpoch---------------- 454\nEpoch---------------- 455\nEpoch---------------- 456\nEpoch---------------- 457\nEpoch---------------- 458\nEpoch---------------- 459\nEpoch---------------- 460\nEpoch---------------- 461\nEpoch---------------- 462\nEpoch---------------- 463\nEpoch---------------- 464\nEpoch---------------- 465\nEpoch---------------- 466\nEpoch---------------- 467\nEpoch---------------- 468\nEpoch---------------- 469\nEpoch---------------- 470\nEpoch---------------- 471\nEpoch---------------- 472\nEpoch---------------- 473\nEpoch---------------- 474\nEpoch---------------- 475\nEpoch---------------- 476\nEpoch---------------- 477\nEpoch---------------- 478\nEpoch---------------- 479\nEpoch---------------- 480\nEpoch---------------- 481\nEpoch---------------- 482\nEpoch---------------- 483\nEpoch---------------- 484\nEpoch---------------- 485\nEpoch---------------- 486\nEpoch---------------- 487\nEpoch---------------- 488\nEpoch---------------- 489\nEpoch---------------- 490\nEpoch---------------- 491\nEpoch---------------- 492\nEpoch---------------- 493\nEpoch---------------- 494\nEpoch---------------- 495\nEpoch---------------- 496\nEpoch---------------- 497\nEpoch---------------- 498\nEpoch---------------- 499\n"
     ],
     "output_type": "stream"
    },
    {
     "data": {
      "text/plain": "<Figure size 432x288 with 1 Axes>",
      "image/png": "[encoded data removed]"
     },
     "metadata": {
      "needs_background": "light"
     },
     "output_type": "display_data"
    }
   ],
   "source": [
    "losses_test.clear()\n",
    "fit()\n",
    "plt.plot(losses_test)\n",
    "plt.show()\n"
   ],
   "metadata": {
    "collapsed": false,
    "pycharm": {
     "name": "#%%\n",
     "is_executing": false
    }
   }
  },
  {
   "cell_type": "code",
   "execution_count": 29,
   "outputs": [
    {
     "traceback": [
      "\u001b[1;31m---------------------------------------------------------------------------\u001b[0m",
      "\u001b[1;31mValueError\u001b[0m                                Traceback (most recent call last)",
      "\u001b[1;32m<ipython-input-29-c856fbcced5c>\u001b[0m in \u001b[0;36m<module>\u001b[1;34m\u001b[0m\n\u001b[1;32m----> 1\u001b[1;33m \u001b[0mguess\u001b[0m\u001b[1;33m(\u001b[0m\u001b[1;36m5\u001b[0m\u001b[1;33m)\u001b[0m\u001b[1;33m\u001b[0m\u001b[1;33m\u001b[0m\u001b[0m\n\u001b[0m\u001b[0;32m      2\u001b[0m \u001b[1;33m\u001b[0m\u001b[0m\n\u001b[0;32m      3\u001b[0m \u001b[1;33m\u001b[0m\u001b[0m\n",
      "\u001b[1;32m<ipython-input-27-e9607423a92f>\u001b[0m in \u001b[0;36mguess\u001b[1;34m(index)\u001b[0m\n\u001b[0;32m      4\u001b[0m     \u001b[0ma_test\u001b[0m\u001b[1;33m[\u001b[0m\u001b[1;36m0\u001b[0m\u001b[1;33m]\u001b[0m \u001b[1;33m=\u001b[0m \u001b[0mnp\u001b[0m\u001b[1;33m.\u001b[0m\u001b[0mappend\u001b[0m\u001b[1;33m(\u001b[0m\u001b[0mX_test\u001b[0m\u001b[1;33m[\u001b[0m\u001b[0mindex\u001b[0m\u001b[1;33m]\u001b[0m\u001b[1;33m,\u001b[0m \u001b[1;36m1\u001b[0m\u001b[1;33m)\u001b[0m\u001b[1;33m[\u001b[0m\u001b[0mnp\u001b[0m\u001b[1;33m.\u001b[0m\u001b[0mnewaxis\u001b[0m\u001b[1;33m,\u001b[0m \u001b[1;33m:\u001b[0m\u001b[1;33m]\u001b[0m\u001b[1;33m\u001b[0m\u001b[1;33m\u001b[0m\u001b[0m\n\u001b[0;32m      5\u001b[0m     \u001b[1;32mfor\u001b[0m \u001b[0mi\u001b[0m \u001b[1;32min\u001b[0m \u001b[0mrange\u001b[0m\u001b[1;33m(\u001b[0m\u001b[0mL\u001b[0m\u001b[1;33m)\u001b[0m\u001b[1;33m:\u001b[0m\u001b[1;33m\u001b[0m\u001b[1;33m\u001b[0m\u001b[0m\n\u001b[1;32m----> 6\u001b[1;33m         \u001b[0mZ_test\u001b[0m\u001b[1;33m[\u001b[0m\u001b[0mi\u001b[0m \u001b[1;33m+\u001b[0m \u001b[1;36m1\u001b[0m\u001b[1;33m]\u001b[0m \u001b[1;33m=\u001b[0m \u001b[0ma_test\u001b[0m\u001b[1;33m[\u001b[0m\u001b[0mi\u001b[0m\u001b[1;33m]\u001b[0m \u001b[1;33m@\u001b[0m \u001b[0mW\u001b[0m\u001b[1;33m[\u001b[0m\u001b[0mi\u001b[0m\u001b[1;33m]\u001b[0m\u001b[1;33m\u001b[0m\u001b[1;33m\u001b[0m\u001b[0m\n\u001b[0m\u001b[0;32m      7\u001b[0m         \u001b[0ma_test\u001b[0m\u001b[1;33m[\u001b[0m\u001b[0mi\u001b[0m \u001b[1;33m+\u001b[0m \u001b[1;36m1\u001b[0m\u001b[1;33m]\u001b[0m \u001b[1;33m=\u001b[0m \u001b[0mnp\u001b[0m\u001b[1;33m.\u001b[0m\u001b[0mappend\u001b[0m\u001b[1;33m(\u001b[0m\u001b[0mReLU\u001b[0m\u001b[1;33m(\u001b[0m\u001b[0mZ_test\u001b[0m\u001b[1;33m[\u001b[0m\u001b[0mi\u001b[0m\u001b[1;33m+\u001b[0m\u001b[1;36m1\u001b[0m\u001b[1;33m]\u001b[0m\u001b[1;33m)\u001b[0m\u001b[1;33m,\u001b[0m \u001b[1;36m1\u001b[0m\u001b[1;33m)\u001b[0m\u001b[1;33m\u001b[0m\u001b[1;33m\u001b[0m\u001b[0m\n\u001b[0;32m      8\u001b[0m \u001b[1;33m\u001b[0m\u001b[0m\n",
      "\u001b[1;31mValueError\u001b[0m: matmul: Input operand 1 has a mismatch in its core dimension 0, with gufunc signature (n?,k),(k,m?)->(n?,m?) (size 3 is different from 785)"
     ],
     "ename": "ValueError",
     "evalue": "matmul: Input operand 1 has a mismatch in its core dimension 0, with gufunc signature (n?,k),(k,m?)->(n?,m?) (size 3 is different from 785)",
     "output_type": "error"
    }
   ],
   "source": [
    "guess(5)\n",
    "\n"
   ],
   "metadata": {
    "collapsed": false,
    "pycharm": {
     "name": "#%%\n",
     "is_executing": false
    }
   }
  }
 ],
 "metadata": {
  "kernelspec": {
   "display_name": "Python 3",
   "language": "python",
   "name": "python3"
  },
  "language_info": {
   "codemirror_mode": {
    "name": "ipython",
    "version": 2
   },
   "file_extension": ".py",
   "mimetype": "text/x-python",
   "name": "python",
   "nbconvert_exporter": "python",
   "pygments_lexer": "ipython2",
   "version": "2.7.6"
  },
  "pycharm": {
   "stem_cell": {
    "cell_type": "raw",
    "source": [],
    "metadata": {
     "collapsed": false
    }
   }
  }
 },
 "nbformat": 4,
 "nbformat_minor": 0
}